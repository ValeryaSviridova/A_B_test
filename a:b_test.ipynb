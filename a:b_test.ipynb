{
 "cells": [
  {
   "cell_type": "markdown",
   "id": "5931bdac",
   "metadata": {
    "toc": true
   },
   "source": [
    "<h1>Гипотезы<span class=\"tocSkip\"></span></h1>\n",
    "<div class=\"toc\"><ul class=\"toc-item\"><li><span><a href=\"#Открытие-файлов-с-данными-и-изучиние-общей-информации\" data-toc-modified-id=\"Открытие-файлов-с-данными-и-изучиние-общей-информации-1\"><span class=\"toc-item-num\">1&nbsp;&nbsp;</span>Открытие файлов с данными и изучиние общей информации</a></span><ul class=\"toc-item\"><li><span><a href=\"#Предобработка-таблицы-hypothesis\" data-toc-modified-id=\"Предобработка-таблицы-hypothesis-1.1\"><span class=\"toc-item-num\">1.1&nbsp;&nbsp;</span>Предобработка таблицы hypothesis</a></span></li><li><span><a href=\"#Предобработка-таблицы-orders\" data-toc-modified-id=\"Предобработка-таблицы-orders-1.2\"><span class=\"toc-item-num\">1.2&nbsp;&nbsp;</span>Предобработка таблицы orders</a></span></li><li><span><a href=\"#Предобработка-таблицы-visitors\" data-toc-modified-id=\"Предобработка-таблицы-visitors-1.3\"><span class=\"toc-item-num\">1.3&nbsp;&nbsp;</span>Предобработка таблицы visitors</a></span></li><li><span><a href=\"#Адекватность-данных-о-группах\" data-toc-modified-id=\"Адекватность-данных-о-группах-1.4\"><span class=\"toc-item-num\">1.4&nbsp;&nbsp;</span>Адекватность данных о группах</a></span></li></ul></li><li><span><a href=\"#Приоритизация-гипотез\" data-toc-modified-id=\"Приоритизация-гипотез-2\"><span class=\"toc-item-num\">2&nbsp;&nbsp;</span>Приоритизация гипотез</a></span><ul class=\"toc-item\"><li><span><a href=\"#Примение-фреймворка-ICE-для-приоритизации-гипотез\" data-toc-modified-id=\"Примение-фреймворка-ICE-для-приоритизации-гипотез-2.1\"><span class=\"toc-item-num\">2.1&nbsp;&nbsp;</span>Примение фреймворка ICE для приоритизации гипотез</a></span></li><li><span><a href=\"#Примение-фреймворка-RICE-для-приоритизации-гипотез\" data-toc-modified-id=\"Примение-фреймворка-RICE-для-приоритизации-гипотез-2.2\"><span class=\"toc-item-num\">2.2&nbsp;&nbsp;</span>Примение фреймворка RICE для приоритизации гипотез</a></span></li></ul></li><li><span><a href=\"#Анализ-A/B-теста\" data-toc-modified-id=\"Анализ-A/B-теста-3\"><span class=\"toc-item-num\">3&nbsp;&nbsp;</span>Анализ A/B-теста</a></span><ul class=\"toc-item\"><li><span><a href=\"#График-кумулятивной-выручки-по-группам\" data-toc-modified-id=\"График-кумулятивной-выручки-по-группам-3.1\"><span class=\"toc-item-num\">3.1&nbsp;&nbsp;</span>График кумулятивной выручки по группам</a></span></li><li><span><a href=\"#Графики-кумулятивного-среднего-чека-по-дням\" data-toc-modified-id=\"Графики-кумулятивного-среднего-чека-по-дням-3.2\"><span class=\"toc-item-num\">3.2&nbsp;&nbsp;</span>Графики кумулятивного среднего чека по дням</a></span></li><li><span><a href=\"#График-относительного-изменения-кумулятивного-среднего-чека-группы-B-к-группе-A.\" data-toc-modified-id=\"График-относительного-изменения-кумулятивного-среднего-чека-группы-B-к-группе-A.-3.3\"><span class=\"toc-item-num\">3.3&nbsp;&nbsp;</span>График относительного изменения кумулятивного среднего чека группы B к группе A.</a></span></li><li><span><a href=\"#График-кумулятивного-среднего-количества-заказов-на-посетителя-по-группам.\" data-toc-modified-id=\"График-кумулятивного-среднего-количества-заказов-на-посетителя-по-группам.-3.4\"><span class=\"toc-item-num\">3.4&nbsp;&nbsp;</span>График кумулятивного среднего количества заказов на посетителя по группам.</a></span></li><li><span><a href=\"#График-относительного-изменения-кумулятивного-среднего-количества-заказов-на-посетителя-группы-B-к-группе-A.\" data-toc-modified-id=\"График-относительного-изменения-кумулятивного-среднего-количества-заказов-на-посетителя-группы-B-к-группе-A.-3.5\"><span class=\"toc-item-num\">3.5&nbsp;&nbsp;</span>График относительного изменения кумулятивного среднего количества заказов на посетителя группы B к группе A.</a></span></li><li><span><a href=\"#Точечный-график-количества-заказов-по-пользователям.\" data-toc-modified-id=\"Точечный-график-количества-заказов-по-пользователям.-3.6\"><span class=\"toc-item-num\">3.6&nbsp;&nbsp;</span>Точечный график количества заказов по пользователям.</a></span></li><li><span><a href=\"#95-й-и-99-й-перцентили-количества-заказов-на-пользователя.-Выбор-границы-для-определения-аномальных-пользователей.\" data-toc-modified-id=\"95-й-и-99-й-перцентили-количества-заказов-на-пользователя.-Выбор-границы-для-определения-аномальных-пользователей.-3.7\"><span class=\"toc-item-num\">3.7&nbsp;&nbsp;</span>95-й и 99-й перцентили количества заказов на пользователя. Выбор границы для определения аномальных пользователей.</a></span></li><li><span><a href=\"#Точечный-график-стоимостей-заказов.\" data-toc-modified-id=\"Точечный-график-стоимостей-заказов.-3.8\"><span class=\"toc-item-num\">3.8&nbsp;&nbsp;</span>Точечный график стоимостей заказов.</a></span></li><li><span><a href=\"#95-й-и-99-й-перцентили-стоимости-заказов.-Выбор-границы-для-определения-аномальных-заказов.\" data-toc-modified-id=\"95-й-и-99-й-перцентили-стоимости-заказов.-Выбор-границы-для-определения-аномальных-заказов.-3.9\"><span class=\"toc-item-num\">3.9&nbsp;&nbsp;</span>95-й и 99-й перцентили стоимости заказов. Выбор границы для определения аномальных заказов.</a></span></li><li><span><a href=\"#Статистическая-значимость-различий-в-среднем-количестве-заказов-на-посетителя-между-группами-по-«сырым»-данным\" data-toc-modified-id=\"Статистическая-значимость-различий-в-среднем-количестве-заказов-на-посетителя-между-группами-по-«сырым»-данным-3.10\"><span class=\"toc-item-num\">3.10&nbsp;&nbsp;</span>Статистическая значимость различий в среднем количестве заказов на посетителя между группами по «сырым» данным</a></span></li><li><span><a href=\"#Статистическая-значимость-различий-в-среднем-чеке-заказа-между-группами-по-«сырым»-данным\" data-toc-modified-id=\"Статистическая-значимость-различий-в-среднем-чеке-заказа-между-группами-по-«сырым»-данным-3.11\"><span class=\"toc-item-num\">3.11&nbsp;&nbsp;</span>Статистическая значимость различий в среднем чеке заказа между группами по «сырым» данным</a></span></li><li><span><a href=\"#Cтатистическая-значимость-различий-в-среднем-количестве-заказов-на-посетителя-между-группами-по-«очищенным»-данным\" data-toc-modified-id=\"Cтатистическая-значимость-различий-в-среднем-количестве-заказов-на-посетителя-между-группами-по-«очищенным»-данным-3.12\"><span class=\"toc-item-num\">3.12&nbsp;&nbsp;</span>Cтатистическая значимость различий в среднем количестве заказов на посетителя между группами по «очищенным» данным</a></span></li><li><span><a href=\"#Статистическая-значимость-различий-в-среднем-чеке-заказа-между-группами-по-«очищенным»-данным\" data-toc-modified-id=\"Статистическая-значимость-различий-в-среднем-чеке-заказа-между-группами-по-«очищенным»-данным-3.13\"><span class=\"toc-item-num\">3.13&nbsp;&nbsp;</span>Статистическая значимость различий в среднем чеке заказа между группами по «очищенным» данным</a></span></li><li><span><a href=\"#Итог\" data-toc-modified-id=\"Итог-3.14\"><span class=\"toc-item-num\">3.14&nbsp;&nbsp;</span>Итог</a></span></li></ul></li></ul></div>"
   ]
  },
  {
   "cell_type": "markdown",
   "id": "2cd408f8",
   "metadata": {},
   "source": [
    "**Цель:**\n",
    "\n",
    "На основании подготовленного списка гипотез для увеличения выручки приоритизировать гипотезы, запустить A/B-тест и проанализировать результаты. "
   ]
  },
  {
   "cell_type": "markdown",
   "id": "229109bd",
   "metadata": {},
   "source": [
    "**Задачи:**\n",
    "\n",
    "- Применить фреймворк ICE для приоритизации гипотез \n",
    "- Применить фреймворк RICE для приоритизации гипотез\n",
    "- Провести анализ A/B теста и принять решение по результатам теста\n"
   ]
  },
  {
   "cell_type": "markdown",
   "id": "c6e15325",
   "metadata": {},
   "source": [
    "**Описание данных**\n",
    "\n",
    "\n",
    "\n",
    "Файл /datasets/hypothesis.csv. \n",
    "- Hypothesis — краткое описание гипотезы;\n",
    "- Reach — охват пользователей по 10-балльной шкале;\n",
    "- Impact — влияние на пользователей по 10-балльной шкале;\n",
    "- Confidence — уверенность в гипотезе по 10-балльной шкале;\n",
    "- Efforts — затраты ресурсов на проверку гипотезы по 10-балльной шкале. Чем больше значение Efforts, тем дороже проверка гипотезы.\n",
    "\n",
    "\n",
    "Файл /datasets/orders.csv. \n",
    "- transactionId — идентификатор заказа;\n",
    "- visitorId — идентификатор пользователя, совершившего заказ;\n",
    "- date — дата, когда был совершён заказ;\n",
    "- revenue — выручка заказа;\n",
    "- group — группа A/B-теста, в которую попал заказ.\n",
    "\n",
    "Файл /datasets/visitors.csv. Скачать датасет\n",
    "- date — дата;\n",
    "- group — группа A/B-теста;\n",
    "- visitors — количество пользователей в указанную дату в указанной группе A/B-теста"
   ]
  },
  {
   "cell_type": "markdown",
   "id": "0e12157b",
   "metadata": {},
   "source": [
    "## Открытие файлов с данными и изучиние общей информации"
   ]
  },
  {
   "cell_type": "code",
   "execution_count": 1,
   "id": "13a5cc9d",
   "metadata": {},
   "outputs": [],
   "source": [
    "#импортируем библиотеки для дальнейшей работы\n",
    "import pandas as pd\n",
    "import datetime as dt\n",
    "import numpy as np\n",
    "import matplotlib.pyplot as plt\n",
    "import scipy.stats as stats\n",
    "from pandas.plotting import register_matplotlib_converters\n",
    "import warnings"
   ]
  },
  {
   "cell_type": "code",
   "execution_count": 2,
   "id": "af889d7d",
   "metadata": {},
   "outputs": [],
   "source": [
    "#открытие документов\n",
    "try:\n",
    "    hypothesis, orders, visitors = (\n",
    "        pd.read_csv('/datasets/hypothesis.csv'),  # журнал сессий\n",
    "        pd.read_csv('/datasets/orders.csv'),  # покупки\n",
    "        pd.read_csv('/datasets/visitors.csv'),  # траты на рекламу\n",
    "    )\n",
    "except:\n",
    "    hypothesis, orders, visitors = (\n",
    "        pd.read_csv('hypothesis.csv'),  # журнал сессий\n",
    "        pd.read_csv('orders.csv'),  # покупки\n",
    "        pd.read_csv('visitors.csv'),  # траты на рекламу\n",
    "    )\n"
   ]
  },
  {
   "cell_type": "code",
   "execution_count": null,
   "id": "801e1487",
   "metadata": {},
   "outputs": [],
   "source": []
  },
  {
   "cell_type": "markdown",
   "id": "5e3fe1f2",
   "metadata": {},
   "source": [
    "### Предобработка таблицы hypothesis"
   ]
  },
  {
   "cell_type": "code",
   "execution_count": 3,
   "id": "6f96f5ba",
   "metadata": {},
   "outputs": [],
   "source": [
    "pd.options.display.max_colwidth = 150 #определение допустимого размера столбца"
   ]
  },
  {
   "cell_type": "code",
   "execution_count": 4,
   "id": "7f415986",
   "metadata": {},
   "outputs": [
    {
     "data": {
      "text/html": [
       "<div>\n",
       "<style scoped>\n",
       "    .dataframe tbody tr th:only-of-type {\n",
       "        vertical-align: middle;\n",
       "    }\n",
       "\n",
       "    .dataframe tbody tr th {\n",
       "        vertical-align: top;\n",
       "    }\n",
       "\n",
       "    .dataframe thead th {\n",
       "        text-align: right;\n",
       "    }\n",
       "</style>\n",
       "<table border=\"1\" class=\"dataframe\">\n",
       "  <thead>\n",
       "    <tr style=\"text-align: right;\">\n",
       "      <th></th>\n",
       "      <th>Hypothesis</th>\n",
       "      <th>Reach</th>\n",
       "      <th>Impact</th>\n",
       "      <th>Confidence</th>\n",
       "      <th>Efforts</th>\n",
       "    </tr>\n",
       "  </thead>\n",
       "  <tbody>\n",
       "    <tr>\n",
       "      <th>0</th>\n",
       "      <td>Добавить два новых канала привлечения трафика, что позволит привлекать на 30% больше пользователей</td>\n",
       "      <td>3</td>\n",
       "      <td>10</td>\n",
       "      <td>8</td>\n",
       "      <td>6</td>\n",
       "    </tr>\n",
       "    <tr>\n",
       "      <th>1</th>\n",
       "      <td>Запустить собственную службу доставки, что сократит срок доставки заказов</td>\n",
       "      <td>2</td>\n",
       "      <td>5</td>\n",
       "      <td>4</td>\n",
       "      <td>10</td>\n",
       "    </tr>\n",
       "    <tr>\n",
       "      <th>2</th>\n",
       "      <td>Добавить блоки рекомендаций товаров на сайт интернет магазина, чтобы повысить конверсию и средний чек заказа</td>\n",
       "      <td>8</td>\n",
       "      <td>3</td>\n",
       "      <td>7</td>\n",
       "      <td>3</td>\n",
       "    </tr>\n",
       "    <tr>\n",
       "      <th>3</th>\n",
       "      <td>Изменить структура категорий, что увеличит конверсию, т.к. пользователи быстрее найдут нужный товар</td>\n",
       "      <td>8</td>\n",
       "      <td>3</td>\n",
       "      <td>3</td>\n",
       "      <td>8</td>\n",
       "    </tr>\n",
       "    <tr>\n",
       "      <th>4</th>\n",
       "      <td>Изменить цвет фона главной страницы, чтобы увеличить вовлеченность пользователей</td>\n",
       "      <td>3</td>\n",
       "      <td>1</td>\n",
       "      <td>1</td>\n",
       "      <td>1</td>\n",
       "    </tr>\n",
       "    <tr>\n",
       "      <th>5</th>\n",
       "      <td>Добавить страницу отзывов клиентов о магазине, что позволит увеличить количество заказов</td>\n",
       "      <td>3</td>\n",
       "      <td>2</td>\n",
       "      <td>2</td>\n",
       "      <td>3</td>\n",
       "    </tr>\n",
       "    <tr>\n",
       "      <th>6</th>\n",
       "      <td>Показать на главной странице баннеры с актуальными акциями и распродажами, чтобы увеличить конверсию</td>\n",
       "      <td>5</td>\n",
       "      <td>3</td>\n",
       "      <td>8</td>\n",
       "      <td>3</td>\n",
       "    </tr>\n",
       "    <tr>\n",
       "      <th>7</th>\n",
       "      <td>Добавить форму подписки на все основные страницы, чтобы собрать базу клиентов для email-рассылок</td>\n",
       "      <td>10</td>\n",
       "      <td>7</td>\n",
       "      <td>8</td>\n",
       "      <td>5</td>\n",
       "    </tr>\n",
       "    <tr>\n",
       "      <th>8</th>\n",
       "      <td>Запустить акцию, дающую скидку на товар в день рождения</td>\n",
       "      <td>1</td>\n",
       "      <td>9</td>\n",
       "      <td>9</td>\n",
       "      <td>5</td>\n",
       "    </tr>\n",
       "  </tbody>\n",
       "</table>\n",
       "</div>"
      ],
      "text/plain": [
       "                                                                                                     Hypothesis  \\\n",
       "0            Добавить два новых канала привлечения трафика, что позволит привлекать на 30% больше пользователей   \n",
       "1                                     Запустить собственную службу доставки, что сократит срок доставки заказов   \n",
       "2  Добавить блоки рекомендаций товаров на сайт интернет магазина, чтобы повысить конверсию и средний чек заказа   \n",
       "3           Изменить структура категорий, что увеличит конверсию, т.к. пользователи быстрее найдут нужный товар   \n",
       "4                              Изменить цвет фона главной страницы, чтобы увеличить вовлеченность пользователей   \n",
       "5                      Добавить страницу отзывов клиентов о магазине, что позволит увеличить количество заказов   \n",
       "6          Показать на главной странице баннеры с актуальными акциями и распродажами, чтобы увеличить конверсию   \n",
       "7              Добавить форму подписки на все основные страницы, чтобы собрать базу клиентов для email-рассылок   \n",
       "8                                                       Запустить акцию, дающую скидку на товар в день рождения   \n",
       "\n",
       "   Reach  Impact  Confidence  Efforts  \n",
       "0      3      10           8        6  \n",
       "1      2       5           4       10  \n",
       "2      8       3           7        3  \n",
       "3      8       3           3        8  \n",
       "4      3       1           1        1  \n",
       "5      3       2           2        3  \n",
       "6      5       3           8        3  \n",
       "7     10       7           8        5  \n",
       "8      1       9           9        5  "
      ]
     },
     "execution_count": 4,
     "metadata": {},
     "output_type": "execute_result"
    }
   ],
   "source": [
    "hypothesis"
   ]
  },
  {
   "cell_type": "code",
   "execution_count": 5,
   "id": "88f41e2f",
   "metadata": {},
   "outputs": [],
   "source": [
    "hypothesis.columns = hypothesis.columns.str.lower() #названия столбцов к нижнему регистру"
   ]
  },
  {
   "cell_type": "code",
   "execution_count": 6,
   "id": "6101fbda",
   "metadata": {},
   "outputs": [
    {
     "name": "stdout",
     "output_type": "stream",
     "text": [
      "<class 'pandas.core.frame.DataFrame'>\n",
      "RangeIndex: 9 entries, 0 to 8\n",
      "Data columns (total 5 columns):\n",
      " #   Column      Non-Null Count  Dtype \n",
      "---  ------      --------------  ----- \n",
      " 0   hypothesis  9 non-null      object\n",
      " 1   reach       9 non-null      int64 \n",
      " 2   impact      9 non-null      int64 \n",
      " 3   confidence  9 non-null      int64 \n",
      " 4   efforts     9 non-null      int64 \n",
      "dtypes: int64(4), object(1)\n",
      "memory usage: 488.0+ bytes\n",
      "Кол-во полных дублей: 0\n"
     ]
    },
    {
     "data": {
      "text/plain": [
       "hypothesis    0\n",
       "reach         0\n",
       "impact        0\n",
       "confidence    0\n",
       "efforts       0\n",
       "dtype: int64"
      ]
     },
     "execution_count": 6,
     "metadata": {},
     "output_type": "execute_result"
    }
   ],
   "source": [
    "hypothesis.info() #общее инфо\n",
    "print('Кол-во полных дублей:',hypothesis.duplicated().sum())  #кол-во полных дубликатов\n",
    "hypothesis.isna().sum() #кол-во пропусков"
   ]
  },
  {
   "cell_type": "markdown",
   "id": "1a392fa3",
   "metadata": {},
   "source": [
    "Тип данных корректный, пропусков и дублей нет, таблицу можно брать в работу."
   ]
  },
  {
   "cell_type": "markdown",
   "id": "567dd63c",
   "metadata": {},
   "source": [
    "### Предобработка таблицы orders"
   ]
  },
  {
   "cell_type": "code",
   "execution_count": 7,
   "id": "e0bdc54c",
   "metadata": {},
   "outputs": [
    {
     "data": {
      "text/html": [
       "<div>\n",
       "<style scoped>\n",
       "    .dataframe tbody tr th:only-of-type {\n",
       "        vertical-align: middle;\n",
       "    }\n",
       "\n",
       "    .dataframe tbody tr th {\n",
       "        vertical-align: top;\n",
       "    }\n",
       "\n",
       "    .dataframe thead th {\n",
       "        text-align: right;\n",
       "    }\n",
       "</style>\n",
       "<table border=\"1\" class=\"dataframe\">\n",
       "  <thead>\n",
       "    <tr style=\"text-align: right;\">\n",
       "      <th></th>\n",
       "      <th>transactionId</th>\n",
       "      <th>visitorId</th>\n",
       "      <th>date</th>\n",
       "      <th>revenue</th>\n",
       "      <th>group</th>\n",
       "    </tr>\n",
       "  </thead>\n",
       "  <tbody>\n",
       "    <tr>\n",
       "      <th>0</th>\n",
       "      <td>3667963787</td>\n",
       "      <td>3312258926</td>\n",
       "      <td>2019-08-15</td>\n",
       "      <td>1650</td>\n",
       "      <td>B</td>\n",
       "    </tr>\n",
       "    <tr>\n",
       "      <th>1</th>\n",
       "      <td>2804400009</td>\n",
       "      <td>3642806036</td>\n",
       "      <td>2019-08-15</td>\n",
       "      <td>730</td>\n",
       "      <td>B</td>\n",
       "    </tr>\n",
       "    <tr>\n",
       "      <th>2</th>\n",
       "      <td>2961555356</td>\n",
       "      <td>4069496402</td>\n",
       "      <td>2019-08-15</td>\n",
       "      <td>400</td>\n",
       "      <td>A</td>\n",
       "    </tr>\n",
       "    <tr>\n",
       "      <th>3</th>\n",
       "      <td>3797467345</td>\n",
       "      <td>1196621759</td>\n",
       "      <td>2019-08-15</td>\n",
       "      <td>9759</td>\n",
       "      <td>B</td>\n",
       "    </tr>\n",
       "    <tr>\n",
       "      <th>4</th>\n",
       "      <td>2282983706</td>\n",
       "      <td>2322279887</td>\n",
       "      <td>2019-08-15</td>\n",
       "      <td>2308</td>\n",
       "      <td>B</td>\n",
       "    </tr>\n",
       "  </tbody>\n",
       "</table>\n",
       "</div>"
      ],
      "text/plain": [
       "   transactionId   visitorId        date  revenue group\n",
       "0     3667963787  3312258926  2019-08-15     1650     B\n",
       "1     2804400009  3642806036  2019-08-15      730     B\n",
       "2     2961555356  4069496402  2019-08-15      400     A\n",
       "3     3797467345  1196621759  2019-08-15     9759     B\n",
       "4     2282983706  2322279887  2019-08-15     2308     B"
      ]
     },
     "execution_count": 7,
     "metadata": {},
     "output_type": "execute_result"
    }
   ],
   "source": [
    "orders.head()"
   ]
  },
  {
   "cell_type": "code",
   "execution_count": 8,
   "id": "cd5e948e",
   "metadata": {},
   "outputs": [
    {
     "name": "stdout",
     "output_type": "stream",
     "text": [
      "<class 'pandas.core.frame.DataFrame'>\n",
      "RangeIndex: 1197 entries, 0 to 1196\n",
      "Data columns (total 5 columns):\n",
      " #   Column         Non-Null Count  Dtype \n",
      "---  ------         --------------  ----- \n",
      " 0   transactionId  1197 non-null   int64 \n",
      " 1   visitorId      1197 non-null   int64 \n",
      " 2   date           1197 non-null   object\n",
      " 3   revenue        1197 non-null   int64 \n",
      " 4   group          1197 non-null   object\n",
      "dtypes: int64(3), object(2)\n",
      "memory usage: 46.9+ KB\n",
      "None\n",
      "Кол-во полных дублей: 0\n"
     ]
    },
    {
     "data": {
      "text/plain": [
       "transactionId    0\n",
       "visitorId        0\n",
       "date             0\n",
       "revenue          0\n",
       "group            0\n",
       "dtype: int64"
      ]
     },
     "execution_count": 8,
     "metadata": {},
     "output_type": "execute_result"
    }
   ],
   "source": [
    "print(orders.info()) #общее инфо\n",
    "print('Кол-во полных дублей:', orders.duplicated().sum()) #кол-во полных дубликатов\n",
    "orders.isna().sum() #кол-во пропусков"
   ]
  },
  {
   "cell_type": "markdown",
   "id": "ecb37b63",
   "metadata": {},
   "source": [
    "Пропусков и дубликатов нет, необходимо изменить тип данных в столбце с датами."
   ]
  },
  {
   "cell_type": "code",
   "execution_count": 9,
   "id": "1d957e58",
   "metadata": {},
   "outputs": [],
   "source": [
    "# преобразование столбца date в формат даты\n",
    "orders['date'] = pd.to_datetime(orders['date'],format = '%Y-%m-%d')"
   ]
  },
  {
   "cell_type": "markdown",
   "id": "53e128ec",
   "metadata": {},
   "source": [
    "### Предобработка таблицы visitors "
   ]
  },
  {
   "cell_type": "code",
   "execution_count": 10,
   "id": "12f1aedf",
   "metadata": {},
   "outputs": [
    {
     "data": {
      "text/html": [
       "<div>\n",
       "<style scoped>\n",
       "    .dataframe tbody tr th:only-of-type {\n",
       "        vertical-align: middle;\n",
       "    }\n",
       "\n",
       "    .dataframe tbody tr th {\n",
       "        vertical-align: top;\n",
       "    }\n",
       "\n",
       "    .dataframe thead th {\n",
       "        text-align: right;\n",
       "    }\n",
       "</style>\n",
       "<table border=\"1\" class=\"dataframe\">\n",
       "  <thead>\n",
       "    <tr style=\"text-align: right;\">\n",
       "      <th></th>\n",
       "      <th>date</th>\n",
       "      <th>group</th>\n",
       "      <th>visitors</th>\n",
       "    </tr>\n",
       "  </thead>\n",
       "  <tbody>\n",
       "    <tr>\n",
       "      <th>0</th>\n",
       "      <td>2019-08-01</td>\n",
       "      <td>A</td>\n",
       "      <td>719</td>\n",
       "    </tr>\n",
       "    <tr>\n",
       "      <th>1</th>\n",
       "      <td>2019-08-02</td>\n",
       "      <td>A</td>\n",
       "      <td>619</td>\n",
       "    </tr>\n",
       "    <tr>\n",
       "      <th>2</th>\n",
       "      <td>2019-08-03</td>\n",
       "      <td>A</td>\n",
       "      <td>507</td>\n",
       "    </tr>\n",
       "    <tr>\n",
       "      <th>3</th>\n",
       "      <td>2019-08-04</td>\n",
       "      <td>A</td>\n",
       "      <td>717</td>\n",
       "    </tr>\n",
       "    <tr>\n",
       "      <th>4</th>\n",
       "      <td>2019-08-05</td>\n",
       "      <td>A</td>\n",
       "      <td>756</td>\n",
       "    </tr>\n",
       "  </tbody>\n",
       "</table>\n",
       "</div>"
      ],
      "text/plain": [
       "         date group  visitors\n",
       "0  2019-08-01     A       719\n",
       "1  2019-08-02     A       619\n",
       "2  2019-08-03     A       507\n",
       "3  2019-08-04     A       717\n",
       "4  2019-08-05     A       756"
      ]
     },
     "execution_count": 10,
     "metadata": {},
     "output_type": "execute_result"
    }
   ],
   "source": [
    "visitors.head()"
   ]
  },
  {
   "cell_type": "code",
   "execution_count": 11,
   "id": "a05f3bfe",
   "metadata": {},
   "outputs": [
    {
     "name": "stdout",
     "output_type": "stream",
     "text": [
      "<class 'pandas.core.frame.DataFrame'>\n",
      "RangeIndex: 62 entries, 0 to 61\n",
      "Data columns (total 3 columns):\n",
      " #   Column    Non-Null Count  Dtype \n",
      "---  ------    --------------  ----- \n",
      " 0   date      62 non-null     object\n",
      " 1   group     62 non-null     object\n",
      " 2   visitors  62 non-null     int64 \n",
      "dtypes: int64(1), object(2)\n",
      "memory usage: 1.6+ KB\n",
      "None\n",
      "Кол-во полных дублей: 0\n"
     ]
    },
    {
     "data": {
      "text/plain": [
       "date        0\n",
       "group       0\n",
       "visitors    0\n",
       "dtype: int64"
      ]
     },
     "execution_count": 11,
     "metadata": {},
     "output_type": "execute_result"
    }
   ],
   "source": [
    "print(visitors.info()) #общее инфо\n",
    "print('Кол-во полных дублей:', visitors.duplicated().sum()) #кол-во полных дубликатов\n",
    "visitors.isna().sum() #кол-во пропусков"
   ]
  },
  {
   "cell_type": "markdown",
   "id": "f93d7c77",
   "metadata": {},
   "source": [
    "Проверим нет ли в кол-ве пользователей за день аномальных выбросов "
   ]
  },
  {
   "cell_type": "code",
   "execution_count": 12,
   "id": "62448c16",
   "metadata": {},
   "outputs": [
    {
     "data": {
      "text/html": [
       "<div>\n",
       "<style scoped>\n",
       "    .dataframe tbody tr th:only-of-type {\n",
       "        vertical-align: middle;\n",
       "    }\n",
       "\n",
       "    .dataframe tbody tr th {\n",
       "        vertical-align: top;\n",
       "    }\n",
       "\n",
       "    .dataframe thead th {\n",
       "        text-align: right;\n",
       "    }\n",
       "</style>\n",
       "<table border=\"1\" class=\"dataframe\">\n",
       "  <thead>\n",
       "    <tr style=\"text-align: right;\">\n",
       "      <th></th>\n",
       "      <th>visitors</th>\n",
       "    </tr>\n",
       "  </thead>\n",
       "  <tbody>\n",
       "    <tr>\n",
       "      <th>count</th>\n",
       "      <td>62.000000</td>\n",
       "    </tr>\n",
       "    <tr>\n",
       "      <th>mean</th>\n",
       "      <td>607.290323</td>\n",
       "    </tr>\n",
       "    <tr>\n",
       "      <th>std</th>\n",
       "      <td>114.400560</td>\n",
       "    </tr>\n",
       "    <tr>\n",
       "      <th>min</th>\n",
       "      <td>361.000000</td>\n",
       "    </tr>\n",
       "    <tr>\n",
       "      <th>25%</th>\n",
       "      <td>534.000000</td>\n",
       "    </tr>\n",
       "    <tr>\n",
       "      <th>50%</th>\n",
       "      <td>624.500000</td>\n",
       "    </tr>\n",
       "    <tr>\n",
       "      <th>75%</th>\n",
       "      <td>710.500000</td>\n",
       "    </tr>\n",
       "    <tr>\n",
       "      <th>max</th>\n",
       "      <td>770.000000</td>\n",
       "    </tr>\n",
       "  </tbody>\n",
       "</table>\n",
       "</div>"
      ],
      "text/plain": [
       "         visitors\n",
       "count   62.000000\n",
       "mean   607.290323\n",
       "std    114.400560\n",
       "min    361.000000\n",
       "25%    534.000000\n",
       "50%    624.500000\n",
       "75%    710.500000\n",
       "max    770.000000"
      ]
     },
     "execution_count": 12,
     "metadata": {},
     "output_type": "execute_result"
    }
   ],
   "source": [
    "visitors.describe()"
   ]
  },
  {
   "cell_type": "markdown",
   "id": "8852f5c7",
   "metadata": {},
   "source": [
    "Пропусков и дубликатов нет, выбросы отсутствуют. Необходимо изменить тип данных в столбце с датами."
   ]
  },
  {
   "cell_type": "code",
   "execution_count": 13,
   "id": "0bdf9490",
   "metadata": {},
   "outputs": [],
   "source": [
    "# преобразование столбца date в формат даты\n",
    "visitors['date'] = pd.to_datetime(visitors['date'],format = '%Y-%m-%d')"
   ]
  },
  {
   "cell_type": "markdown",
   "id": "2340fbc2",
   "metadata": {},
   "source": [
    "### Адекватность данных о группах"
   ]
  },
  {
   "cell_type": "markdown",
   "id": "9355669e",
   "metadata": {},
   "source": [
    "Проверим кол-во групп (они должны совпадать):"
   ]
  },
  {
   "cell_type": "code",
   "execution_count": 14,
   "id": "62cf02df",
   "metadata": {},
   "outputs": [
    {
     "data": {
      "text/plain": [
       "B    31\n",
       "A    31\n",
       "Name: group, dtype: int64"
      ]
     },
     "execution_count": 14,
     "metadata": {},
     "output_type": "execute_result"
    }
   ],
   "source": [
    "visitors['group'].value_counts()"
   ]
  },
  {
   "cell_type": "markdown",
   "id": "b894a34c",
   "metadata": {},
   "source": [
    "Проверка групп на совпадения участников (пользователь не должен попадать в две группы одновременно):"
   ]
  },
  {
   "cell_type": "code",
   "execution_count": 15,
   "id": "4c28d4b4",
   "metadata": {},
   "outputs": [
    {
     "data": {
      "text/plain": [
       "array([4069496402,  963407295,  351125977, 3234906277,  199603092,\n",
       "        237748145, 3803269165, 2038680547, 2378935119, 4256040402,\n",
       "       2712142231,    8300375,  276558944,  457167155, 3062433592,\n",
       "       1738359350, 2458001652, 2716752286, 3891541246, 1648269707,\n",
       "       3656415546, 2686716486, 2954449915, 2927087541, 2579882178,\n",
       "       3957174400, 2780786433, 3984495233,  818047933, 1668030113,\n",
       "       3717692402, 2044997962, 1959144690, 1294878855, 1404934699,\n",
       "       2587333274, 3202540741, 1333886533, 2600415354, 3951559397,\n",
       "        393266494, 3972127743, 4120364173, 4266935830, 1230306981,\n",
       "       1614305549,  477780734, 1602967004, 1801183820, 4186807279,\n",
       "       3766097110, 3941795274,  471551937, 1316129916,  232979603,\n",
       "       2654030115, 3963646447, 2949041841])"
      ]
     },
     "metadata": {},
     "output_type": "display_data"
    },
    {
     "name": "stdout",
     "output_type": "stream",
     "text": [
      "Количество пользователей, присутствующих в двух группах: 58\n",
      "Всего уникальных пользователей в тесте: 1031\n"
     ]
    }
   ],
   "source": [
    "a = orders[orders['group'] == 'A']['visitorId'] #срез данных по группе А\n",
    "b = orders[orders['group'] == 'B']['visitorId'] #срез данных по группе В\n",
    "orders_ab = orders.query('visitorId in @a and visitorId in @b') #срез данных пользователей попавших в a&b одновременно\n",
    "display(orders_ab['visitorId'].unique()) #массив уникальных пользователей\n",
    "print('Количество пользователей, присутствующих в двух группах:', orders_ab['visitorId'].nunique())\n",
    "print('Всего уникальных пользователей в тесте:', orders['visitorId'].nunique())"
   ]
  },
  {
   "cell_type": "markdown",
   "id": "5e2ae0b5",
   "metadata": {},
   "source": [
    "Из 1031 пользоватея 58 оказались в обеих группах, они составляют незначительный процент от общей суммы и не сильно исказят результат, их можно удалить из данных."
   ]
  },
  {
   "cell_type": "code",
   "execution_count": 16,
   "id": "0adee72c",
   "metadata": {},
   "outputs": [],
   "source": [
    "a = orders_ab[\"visitorId\"] #словарь пользователей, присутсвующих в обеих группах"
   ]
  },
  {
   "cell_type": "code",
   "execution_count": 17,
   "id": "d0a05e3f",
   "metadata": {},
   "outputs": [],
   "source": [
    "orders = orders.query('visitorId not in @a') #срез без пользователей в 2х группах"
   ]
  },
  {
   "cell_type": "markdown",
   "id": "5949c8ce",
   "metadata": {},
   "source": [
    "**Вывод:** Данные целостны и корректны, значения в столбцах соответствуют их типу.  Кол-во групп совпадает, пользователи, участвующие в обеих группах удалены. Таблицы можно брать в работу"
   ]
  },
  {
   "cell_type": "markdown",
   "id": "4cc8ea03",
   "metadata": {},
   "source": [
    "## Приоритизация гипотез"
   ]
  },
  {
   "cell_type": "markdown",
   "id": "20fdb78c",
   "metadata": {},
   "source": [
    "### Примение фреймворка ICE для приоритизации гипотез"
   ]
  },
  {
   "cell_type": "markdown",
   "id": "cb248473",
   "metadata": {},
   "source": [
    "Рассмотрим список предоставленных гипотез и соответствубщие им параметры Reach, Impact, Confidence, Efforts"
   ]
  },
  {
   "cell_type": "code",
   "execution_count": 18,
   "id": "c23297b3",
   "metadata": {},
   "outputs": [
    {
     "data": {
      "text/html": [
       "<div>\n",
       "<style scoped>\n",
       "    .dataframe tbody tr th:only-of-type {\n",
       "        vertical-align: middle;\n",
       "    }\n",
       "\n",
       "    .dataframe tbody tr th {\n",
       "        vertical-align: top;\n",
       "    }\n",
       "\n",
       "    .dataframe thead th {\n",
       "        text-align: right;\n",
       "    }\n",
       "</style>\n",
       "<table border=\"1\" class=\"dataframe\">\n",
       "  <thead>\n",
       "    <tr style=\"text-align: right;\">\n",
       "      <th></th>\n",
       "      <th>hypothesis</th>\n",
       "      <th>reach</th>\n",
       "      <th>impact</th>\n",
       "      <th>confidence</th>\n",
       "      <th>efforts</th>\n",
       "    </tr>\n",
       "  </thead>\n",
       "  <tbody>\n",
       "    <tr>\n",
       "      <th>0</th>\n",
       "      <td>Добавить два новых канала привлечения трафика, что позволит привлекать на 30% больше пользователей</td>\n",
       "      <td>3</td>\n",
       "      <td>10</td>\n",
       "      <td>8</td>\n",
       "      <td>6</td>\n",
       "    </tr>\n",
       "    <tr>\n",
       "      <th>1</th>\n",
       "      <td>Запустить собственную службу доставки, что сократит срок доставки заказов</td>\n",
       "      <td>2</td>\n",
       "      <td>5</td>\n",
       "      <td>4</td>\n",
       "      <td>10</td>\n",
       "    </tr>\n",
       "    <tr>\n",
       "      <th>2</th>\n",
       "      <td>Добавить блоки рекомендаций товаров на сайт интернет магазина, чтобы повысить конверсию и средний чек заказа</td>\n",
       "      <td>8</td>\n",
       "      <td>3</td>\n",
       "      <td>7</td>\n",
       "      <td>3</td>\n",
       "    </tr>\n",
       "    <tr>\n",
       "      <th>3</th>\n",
       "      <td>Изменить структура категорий, что увеличит конверсию, т.к. пользователи быстрее найдут нужный товар</td>\n",
       "      <td>8</td>\n",
       "      <td>3</td>\n",
       "      <td>3</td>\n",
       "      <td>8</td>\n",
       "    </tr>\n",
       "    <tr>\n",
       "      <th>4</th>\n",
       "      <td>Изменить цвет фона главной страницы, чтобы увеличить вовлеченность пользователей</td>\n",
       "      <td>3</td>\n",
       "      <td>1</td>\n",
       "      <td>1</td>\n",
       "      <td>1</td>\n",
       "    </tr>\n",
       "    <tr>\n",
       "      <th>5</th>\n",
       "      <td>Добавить страницу отзывов клиентов о магазине, что позволит увеличить количество заказов</td>\n",
       "      <td>3</td>\n",
       "      <td>2</td>\n",
       "      <td>2</td>\n",
       "      <td>3</td>\n",
       "    </tr>\n",
       "    <tr>\n",
       "      <th>6</th>\n",
       "      <td>Показать на главной странице баннеры с актуальными акциями и распродажами, чтобы увеличить конверсию</td>\n",
       "      <td>5</td>\n",
       "      <td>3</td>\n",
       "      <td>8</td>\n",
       "      <td>3</td>\n",
       "    </tr>\n",
       "    <tr>\n",
       "      <th>7</th>\n",
       "      <td>Добавить форму подписки на все основные страницы, чтобы собрать базу клиентов для email-рассылок</td>\n",
       "      <td>10</td>\n",
       "      <td>7</td>\n",
       "      <td>8</td>\n",
       "      <td>5</td>\n",
       "    </tr>\n",
       "    <tr>\n",
       "      <th>8</th>\n",
       "      <td>Запустить акцию, дающую скидку на товар в день рождения</td>\n",
       "      <td>1</td>\n",
       "      <td>9</td>\n",
       "      <td>9</td>\n",
       "      <td>5</td>\n",
       "    </tr>\n",
       "  </tbody>\n",
       "</table>\n",
       "</div>"
      ],
      "text/plain": [
       "                                                                                                     hypothesis  \\\n",
       "0            Добавить два новых канала привлечения трафика, что позволит привлекать на 30% больше пользователей   \n",
       "1                                     Запустить собственную службу доставки, что сократит срок доставки заказов   \n",
       "2  Добавить блоки рекомендаций товаров на сайт интернет магазина, чтобы повысить конверсию и средний чек заказа   \n",
       "3           Изменить структура категорий, что увеличит конверсию, т.к. пользователи быстрее найдут нужный товар   \n",
       "4                              Изменить цвет фона главной страницы, чтобы увеличить вовлеченность пользователей   \n",
       "5                      Добавить страницу отзывов клиентов о магазине, что позволит увеличить количество заказов   \n",
       "6          Показать на главной странице баннеры с актуальными акциями и распродажами, чтобы увеличить конверсию   \n",
       "7              Добавить форму подписки на все основные страницы, чтобы собрать базу клиентов для email-рассылок   \n",
       "8                                                       Запустить акцию, дающую скидку на товар в день рождения   \n",
       "\n",
       "   reach  impact  confidence  efforts  \n",
       "0      3      10           8        6  \n",
       "1      2       5           4       10  \n",
       "2      8       3           7        3  \n",
       "3      8       3           3        8  \n",
       "4      3       1           1        1  \n",
       "5      3       2           2        3  \n",
       "6      5       3           8        3  \n",
       "7     10       7           8        5  \n",
       "8      1       9           9        5  "
      ]
     },
     "execution_count": 18,
     "metadata": {},
     "output_type": "execute_result"
    }
   ],
   "source": [
    "hypothesis"
   ]
  },
  {
   "cell_type": "markdown",
   "id": "899435c5",
   "metadata": {},
   "source": [
    "Применим фреймворк ICE для приоритизации гипотез и выведим их в порядке убывания приоритета"
   ]
  },
  {
   "cell_type": "code",
   "execution_count": 19,
   "id": "436f4307",
   "metadata": {},
   "outputs": [
    {
     "data": {
      "text/html": [
       "<div>\n",
       "<style scoped>\n",
       "    .dataframe tbody tr th:only-of-type {\n",
       "        vertical-align: middle;\n",
       "    }\n",
       "\n",
       "    .dataframe tbody tr th {\n",
       "        vertical-align: top;\n",
       "    }\n",
       "\n",
       "    .dataframe thead th {\n",
       "        text-align: right;\n",
       "    }\n",
       "</style>\n",
       "<table border=\"1\" class=\"dataframe\">\n",
       "  <thead>\n",
       "    <tr style=\"text-align: right;\">\n",
       "      <th></th>\n",
       "      <th>hypothesis</th>\n",
       "      <th>ICE</th>\n",
       "    </tr>\n",
       "  </thead>\n",
       "  <tbody>\n",
       "    <tr>\n",
       "      <th>8</th>\n",
       "      <td>Запустить акцию, дающую скидку на товар в день рождения</td>\n",
       "      <td>16.20</td>\n",
       "    </tr>\n",
       "    <tr>\n",
       "      <th>0</th>\n",
       "      <td>Добавить два новых канала привлечения трафика, что позволит привлекать на 30% больше пользователей</td>\n",
       "      <td>13.33</td>\n",
       "    </tr>\n",
       "    <tr>\n",
       "      <th>7</th>\n",
       "      <td>Добавить форму подписки на все основные страницы, чтобы собрать базу клиентов для email-рассылок</td>\n",
       "      <td>11.20</td>\n",
       "    </tr>\n",
       "    <tr>\n",
       "      <th>6</th>\n",
       "      <td>Показать на главной странице баннеры с актуальными акциями и распродажами, чтобы увеличить конверсию</td>\n",
       "      <td>8.00</td>\n",
       "    </tr>\n",
       "    <tr>\n",
       "      <th>2</th>\n",
       "      <td>Добавить блоки рекомендаций товаров на сайт интернет магазина, чтобы повысить конверсию и средний чек заказа</td>\n",
       "      <td>7.00</td>\n",
       "    </tr>\n",
       "    <tr>\n",
       "      <th>1</th>\n",
       "      <td>Запустить собственную службу доставки, что сократит срок доставки заказов</td>\n",
       "      <td>2.00</td>\n",
       "    </tr>\n",
       "    <tr>\n",
       "      <th>5</th>\n",
       "      <td>Добавить страницу отзывов клиентов о магазине, что позволит увеличить количество заказов</td>\n",
       "      <td>1.33</td>\n",
       "    </tr>\n",
       "    <tr>\n",
       "      <th>3</th>\n",
       "      <td>Изменить структура категорий, что увеличит конверсию, т.к. пользователи быстрее найдут нужный товар</td>\n",
       "      <td>1.12</td>\n",
       "    </tr>\n",
       "    <tr>\n",
       "      <th>4</th>\n",
       "      <td>Изменить цвет фона главной страницы, чтобы увеличить вовлеченность пользователей</td>\n",
       "      <td>1.00</td>\n",
       "    </tr>\n",
       "  </tbody>\n",
       "</table>\n",
       "</div>"
      ],
      "text/plain": [
       "                                                                                                     hypothesis  \\\n",
       "8                                                       Запустить акцию, дающую скидку на товар в день рождения   \n",
       "0            Добавить два новых канала привлечения трафика, что позволит привлекать на 30% больше пользователей   \n",
       "7              Добавить форму подписки на все основные страницы, чтобы собрать базу клиентов для email-рассылок   \n",
       "6          Показать на главной странице баннеры с актуальными акциями и распродажами, чтобы увеличить конверсию   \n",
       "2  Добавить блоки рекомендаций товаров на сайт интернет магазина, чтобы повысить конверсию и средний чек заказа   \n",
       "1                                     Запустить собственную службу доставки, что сократит срок доставки заказов   \n",
       "5                      Добавить страницу отзывов клиентов о магазине, что позволит увеличить количество заказов   \n",
       "3           Изменить структура категорий, что увеличит конверсию, т.к. пользователи быстрее найдут нужный товар   \n",
       "4                              Изменить цвет фона главной страницы, чтобы увеличить вовлеченность пользователей   \n",
       "\n",
       "     ICE  \n",
       "8  16.20  \n",
       "0  13.33  \n",
       "7  11.20  \n",
       "6   8.00  \n",
       "2   7.00  \n",
       "1   2.00  \n",
       "5   1.33  \n",
       "3   1.12  \n",
       "4   1.00  "
      ]
     },
     "execution_count": 19,
     "metadata": {},
     "output_type": "execute_result"
    }
   ],
   "source": [
    "hypothesis['ICE']=(hypothesis['impact'] * hypothesis['confidence']/hypothesis['efforts']).round(2)\n",
    "hypothesis[['hypothesis','ICE']].sort_values(by='ICE', ascending=False)"
   ]
  },
  {
   "cell_type": "markdown",
   "id": "53de308f",
   "metadata": {},
   "source": [
    "Приоритетны гипотезы: 8, 0, 7 "
   ]
  },
  {
   "cell_type": "markdown",
   "id": "f48590cc",
   "metadata": {},
   "source": [
    "### Примение фреймворка RICE для приоритизации гипотез"
   ]
  },
  {
   "cell_type": "code",
   "execution_count": 20,
   "id": "d570ff75",
   "metadata": {},
   "outputs": [
    {
     "data": {
      "text/html": [
       "<div>\n",
       "<style scoped>\n",
       "    .dataframe tbody tr th:only-of-type {\n",
       "        vertical-align: middle;\n",
       "    }\n",
       "\n",
       "    .dataframe tbody tr th {\n",
       "        vertical-align: top;\n",
       "    }\n",
       "\n",
       "    .dataframe thead th {\n",
       "        text-align: right;\n",
       "    }\n",
       "</style>\n",
       "<table border=\"1\" class=\"dataframe\">\n",
       "  <thead>\n",
       "    <tr style=\"text-align: right;\">\n",
       "      <th></th>\n",
       "      <th>hypothesis</th>\n",
       "      <th>RICE</th>\n",
       "    </tr>\n",
       "  </thead>\n",
       "  <tbody>\n",
       "    <tr>\n",
       "      <th>7</th>\n",
       "      <td>Добавить форму подписки на все основные страницы, чтобы собрать базу клиентов для email-рассылок</td>\n",
       "      <td>112.0</td>\n",
       "    </tr>\n",
       "    <tr>\n",
       "      <th>2</th>\n",
       "      <td>Добавить блоки рекомендаций товаров на сайт интернет магазина, чтобы повысить конверсию и средний чек заказа</td>\n",
       "      <td>56.0</td>\n",
       "    </tr>\n",
       "    <tr>\n",
       "      <th>0</th>\n",
       "      <td>Добавить два новых канала привлечения трафика, что позволит привлекать на 30% больше пользователей</td>\n",
       "      <td>40.0</td>\n",
       "    </tr>\n",
       "    <tr>\n",
       "      <th>6</th>\n",
       "      <td>Показать на главной странице баннеры с актуальными акциями и распродажами, чтобы увеличить конверсию</td>\n",
       "      <td>40.0</td>\n",
       "    </tr>\n",
       "    <tr>\n",
       "      <th>8</th>\n",
       "      <td>Запустить акцию, дающую скидку на товар в день рождения</td>\n",
       "      <td>16.2</td>\n",
       "    </tr>\n",
       "    <tr>\n",
       "      <th>3</th>\n",
       "      <td>Изменить структура категорий, что увеличит конверсию, т.к. пользователи быстрее найдут нужный товар</td>\n",
       "      <td>9.0</td>\n",
       "    </tr>\n",
       "    <tr>\n",
       "      <th>1</th>\n",
       "      <td>Запустить собственную службу доставки, что сократит срок доставки заказов</td>\n",
       "      <td>4.0</td>\n",
       "    </tr>\n",
       "    <tr>\n",
       "      <th>5</th>\n",
       "      <td>Добавить страницу отзывов клиентов о магазине, что позволит увеличить количество заказов</td>\n",
       "      <td>4.0</td>\n",
       "    </tr>\n",
       "    <tr>\n",
       "      <th>4</th>\n",
       "      <td>Изменить цвет фона главной страницы, чтобы увеличить вовлеченность пользователей</td>\n",
       "      <td>3.0</td>\n",
       "    </tr>\n",
       "  </tbody>\n",
       "</table>\n",
       "</div>"
      ],
      "text/plain": [
       "                                                                                                     hypothesis  \\\n",
       "7              Добавить форму подписки на все основные страницы, чтобы собрать базу клиентов для email-рассылок   \n",
       "2  Добавить блоки рекомендаций товаров на сайт интернет магазина, чтобы повысить конверсию и средний чек заказа   \n",
       "0            Добавить два новых канала привлечения трафика, что позволит привлекать на 30% больше пользователей   \n",
       "6          Показать на главной странице баннеры с актуальными акциями и распродажами, чтобы увеличить конверсию   \n",
       "8                                                       Запустить акцию, дающую скидку на товар в день рождения   \n",
       "3           Изменить структура категорий, что увеличит конверсию, т.к. пользователи быстрее найдут нужный товар   \n",
       "1                                     Запустить собственную службу доставки, что сократит срок доставки заказов   \n",
       "5                      Добавить страницу отзывов клиентов о магазине, что позволит увеличить количество заказов   \n",
       "4                              Изменить цвет фона главной страницы, чтобы увеличить вовлеченность пользователей   \n",
       "\n",
       "    RICE  \n",
       "7  112.0  \n",
       "2   56.0  \n",
       "0   40.0  \n",
       "6   40.0  \n",
       "8   16.2  \n",
       "3    9.0  \n",
       "1    4.0  \n",
       "5    4.0  \n",
       "4    3.0  "
      ]
     },
     "execution_count": 20,
     "metadata": {},
     "output_type": "execute_result"
    }
   ],
   "source": [
    "hypothesis['RICE'] = hypothesis['reach'] *  hypothesis['impact'] * hypothesis['confidence'] / hypothesis['efforts']\n",
    "\n",
    "hypothesis[['hypothesis','RICE']].sort_values(by='RICE', ascending=False)"
   ]
  },
  {
   "cell_type": "markdown",
   "id": "109acee7",
   "metadata": {},
   "source": [
    "Наиболее перспективными стали гипотезы: 7, 2, 0 "
   ]
  },
  {
   "cell_type": "markdown",
   "id": "abb4d5bb",
   "metadata": {},
   "source": [
    "**Вывод:** Различия в результатах приоретизации фреймворками ICE и RICE в обусловлены важным параметром Reach (скольких пользователей затронет изменение), который учитывается во втором методе. Так как метод RICE является модификацией метода ICE и учитывает большее кол-во параметров, можно предложить к тестированию гипотезу №7 "
   ]
  },
  {
   "cell_type": "markdown",
   "id": "f94c3a36",
   "metadata": {},
   "source": [
    "## Анализ A/B-теста"
   ]
  },
  {
   "cell_type": "markdown",
   "id": "84e070f0",
   "metadata": {},
   "source": [
    "### График кумулятивной выручки по группам"
   ]
  },
  {
   "cell_type": "markdown",
   "id": "1165e0f0",
   "metadata": {},
   "source": [
    "Создадим датафрейм datesGroups с уникальными парами значений 'date' и 'group' таблицы orders"
   ]
  },
  {
   "cell_type": "markdown",
   "id": "fd5c749e",
   "metadata": {},
   "source": [
    "1. Создадим датафрейм datesGroups с уникальными парами значений 'date' и 'group', таблицы orders. Избавьимся от дубликатов методом drop_duplicates().\n",
    "2. Объявим переменную ordersAggregated, содержащую:\n",
    " - дату;\n",
    " - группу A/B-теста;\n",
    " - число уникальных заказов в группе теста по указанную дату включительно;\n",
    " - число уникальных пользователей, совершивших хотя бы 1 заказ в группе теста по указанную дату включительно;\n",
    " - суммарную выручку заказов в группе теста по указанную дату включительно.\n",
    "3. Объявим переменную visitorsAggregated, содержащую:\n",
    " - дату;\n",
    " - группу A/B-теста;\n",
    " - количество уникальных посетителей в группе теста по указанную дату включительно.\n",
    "4. ordersAggregated и visitorsAggregated отсортируем по столбцам 'date', 'group' в указанном порядке\n",
    "5. Определим переменную cumulativeData, объединив ordersAggregated и visitorsAggregated по колонкам 'date', 'group' методом merge()\n",
    "6. Присвоим столбцам cumulativeData названия ['date', 'group', 'orders', 'buyers', 'revenue', 'visitors']\n",
    "7. Выведим первые 5 строк переменной cumulativeData\n"
   ]
  },
  {
   "cell_type": "code",
   "execution_count": 21,
   "id": "6923a04f",
   "metadata": {},
   "outputs": [
    {
     "name": "stdout",
     "output_type": "stream",
     "text": [
      "        date group  orders  buyers  revenue  visitors\n",
      "0 2019-08-01     A      23      19   142779       719\n",
      "1 2019-08-01     B      17      17    59758       713\n",
      "2 2019-08-02     A      42      36   234381      1338\n",
      "3 2019-08-02     B      40      39   221801      1294\n",
      "4 2019-08-03     A      66      60   346854      1845\n"
     ]
    }
   ],
   "source": [
    "#создаем массив уникальных пар значений дат и групп теста\n",
    "datesGroups = orders[['date','group']].drop_duplicates() \n",
    "ordersAggregated=datesGroups.apply(\n",
    "    lambda x: orders[np.logical_and(orders['date'] <= x['date'], orders['group'] == x['group'])].agg({\n",
    "'date' : 'max',\n",
    "'group' : 'max',\n",
    "'transactionId' : pd.Series.nunique,\n",
    "'visitorId' : pd.Series.nunique,\n",
    "'revenue' : 'sum'}), axis=1).sort_values(by=['date','group']) \n",
    "\n",
    "visitorsAggregated = datesGroups.apply(lambda x: visitors[np.logical_and(visitors['date'] <= x['date'], visitors['group'] == x['group'])].agg({'date' : 'max', 'group' : 'max', 'visitors' : 'sum'}), axis=1).sort_values(by=['date','group'])\n",
    "\n",
    "\n",
    "cumulativeData = ordersAggregated.merge(visitorsAggregated, left_on=['date', 'group'], right_on=['date', 'group']) \n",
    "cumulativeData.columns = ['date', 'group', 'orders', 'buyers', 'revenue', 'visitors']\n",
    "print(cumulativeData.head())\n"
   ]
  },
  {
   "cell_type": "markdown",
   "id": "7da6d2d4",
   "metadata": {},
   "source": [
    "Объявим переменные cumulativeRevenueA и cumulativeRevenueB, в которых сохраним данные о датах, выручке и числе заказов в группах A и B. Построим график."
   ]
  },
  {
   "cell_type": "code",
   "execution_count": 22,
   "id": "3cbc7e54",
   "metadata": {},
   "outputs": [
    {
     "data": {
      "image/png": "[encoded data removed]",
      "text/plain": [
       "<Figure size 1080x360 with 1 Axes>"
      ]
     },
     "metadata": {
      "needs_background": "light"
     },
     "output_type": "display_data"
    }
   ],
   "source": [
    "# датафрейм с кумулятивным количеством заказов и кумулятивной выручкой по дням в группе А\n",
    "cumulativeRevenueA = cumulativeData[cumulativeData['group']=='A'][['date','revenue', 'orders']]\n",
    "\n",
    "# датафрейм с кумулятивным количеством заказов и кумулятивной выручкой по дням в группе B\n",
    "cumulativeRevenueB = cumulativeData[cumulativeData['group']=='B'][['date','revenue', 'orders']]\n",
    "\n",
    "#размер графика\n",
    "plt.figure(figsize=(15,5))\n",
    "\n",
    "# Строим график выручки группы А\n",
    "plt.plot(cumulativeRevenueA['date'], cumulativeRevenueA['revenue'], label='A')\n",
    "\n",
    "# Строим график выручки группы B\n",
    "plt.plot(cumulativeRevenueB['date'], cumulativeRevenueB['revenue'], label='B')\n",
    "\n",
    "\n",
    "plt.title('График кумулятивной выручки по группам')\n",
    "plt.ylabel('Выручка')\n",
    "plt.xlabel('Дата')\n",
    "plt.xticks(rotation=45)\n",
    "plt.legend()\n",
    "plt.grid()\n",
    "plt.show()"
   ]
  },
  {
   "cell_type": "markdown",
   "id": "a6fe01d6",
   "metadata": {},
   "source": [
    "Выручка почти равномерно увеличивается примерно до 18-08-2019, однако график выручки группы B в этот день резко вырос и 19-08-2019 продолжил равномерно расти. Это может говорить о всплесках числа заказов, либо о появлении очень дорогих заказов в выборке."
   ]
  },
  {
   "cell_type": "markdown",
   "id": "f27ce080",
   "metadata": {},
   "source": [
    "### Графики кумулятивного среднего чека по дням"
   ]
  },
  {
   "cell_type": "code",
   "execution_count": 23,
   "id": "8e4489bd",
   "metadata": {},
   "outputs": [
    {
     "data": {
      "image/png": "[encoded data removed]",
      "text/plain": [
       "<Figure size 1080x360 with 1 Axes>"
      ]
     },
     "metadata": {
      "needs_background": "light"
     },
     "output_type": "display_data"
    }
   ],
   "source": [
    "#размер графика\n",
    "plt.figure(figsize=(15,5))\n",
    "plt.plot(cumulativeRevenueA['date'], cumulativeRevenueA['revenue']/cumulativeRevenueA['orders'], label='A')\n",
    "plt.plot(cumulativeRevenueB['date'], cumulativeRevenueB['revenue']/cumulativeRevenueB['orders'], label='B')\n",
    "\n",
    "plt.title('График кумулятивного среднего чека групп по дням')\n",
    "plt.ylabel('Выручка')\n",
    "plt.xlabel('Дата')\n",
    "plt.xticks(rotation=45)\n",
    "plt.legend()\n",
    "plt.grid()\n",
    "plt.show()"
   ]
  },
  {
   "cell_type": "markdown",
   "id": "da92c216",
   "metadata": {},
   "source": [
    "У группы A наблюдается упадок до 06-08-2019, после постепенно растет и с 13-08-2019 остается практически равномерным. У группы B  резкий скачек вверх 18-08-2019 (после график идет на спад). Возможно, в группу B попали крупные заказы (резкий всплеск на графике) или же аномалии в данных. Практически все время график кумулятивного среднего чека группы В выше графика группы А"
   ]
  },
  {
   "cell_type": "markdown",
   "id": "95618803",
   "metadata": {},
   "source": [
    "### График относительного изменения кумулятивного среднего чека группы B к группе A."
   ]
  },
  {
   "cell_type": "markdown",
   "id": "26500158",
   "metadata": {},
   "source": [
    "Объединим таблицы cumulativeRevenueA и cumulativeRevenueB. Построим график относительно различия кумулятивного среднего чека группы B к группе A."
   ]
  },
  {
   "cell_type": "code",
   "execution_count": 24,
   "id": "16a67b21",
   "metadata": {},
   "outputs": [
    {
     "data": {
      "image/png": "[encoded data removed]",
      "text/plain": [
       "<Figure size 1080x360 with 1 Axes>"
      ]
     },
     "metadata": {
      "needs_background": "light"
     },
     "output_type": "display_data"
    }
   ],
   "source": [
    "plt.figure(figsize=(15,5))\n",
    "# собираем данные в одном датафрейме\n",
    "mergedCumulativeRevenue = cumulativeRevenueA.merge(cumulativeRevenueB, left_on='date', right_on='date', how='left', suffixes=['A', 'B'])\n",
    "\n",
    "# cтроим отношение средних чеков\n",
    "plt.plot(mergedCumulativeRevenue['date'], (mergedCumulativeRevenue['revenueB']/mergedCumulativeRevenue['ordersB'])/(mergedCumulativeRevenue['revenueA']/mergedCumulativeRevenue['ordersA'])-1)\n",
    "\n",
    "# добавляем ось X\n",
    "plt.axhline(y=0, color='black', linestyle='--')\n",
    "plt.title('График относительного изменения кумулятивного среднего чека группы B к группе A')\n",
    "plt.ylabel('Кумулятивный cредний чек')\n",
    "plt.xlabel('Дата')\n",
    "plt.xticks(rotation=45)\n",
    "plt.grid()\n",
    "plt.show()"
   ]
  },
  {
   "cell_type": "markdown",
   "id": "6fa793a5",
   "metadata": {},
   "source": [
    "В нескольких точках график различия между сегментами резко «скачет». Вероятно, где-то были выбросы/аномалии с большими заказами"
   ]
  },
  {
   "cell_type": "markdown",
   "id": "9d62cda9",
   "metadata": {},
   "source": [
    "### График кумулятивного среднего количества заказов на посетителя по группам."
   ]
  },
  {
   "cell_type": "markdown",
   "id": "f6a6d0af",
   "metadata": {},
   "source": [
    "Добавим в cumulativeData столбец 'conversion' c отношением числа заказов к количеству пользователей в указанной группе в указанный день.\n",
    "Объявим переменные cumulativeDataA и cumulativeDataB, в которых сохраним данные о заказах в сегментах A и B соответственно.\n",
    "Построим графики кумулятивного среднего количества заказов на посетител по дням по группам."
   ]
  },
  {
   "cell_type": "code",
   "execution_count": 25,
   "id": "32c27d8d",
   "metadata": {},
   "outputs": [
    {
     "data": {
      "image/png": "[encoded data removed]",
      "text/plain": [
       "<Figure size 1080x360 with 1 Axes>"
      ]
     },
     "metadata": {
      "needs_background": "light"
     },
     "output_type": "display_data"
    }
   ],
   "source": [
    "# считаем кумулятивную конверсию\n",
    "cumulativeData['conversion'] = cumulativeData['orders']/cumulativeData['visitors']\n",
    "\n",
    "# отделяем данные по группе A\n",
    "cumulativeDataA = cumulativeData[cumulativeData['group']=='A']\n",
    "\n",
    "# отделяем данные по группе B\n",
    "cumulativeDataB = cumulativeData[cumulativeData['group']=='B']\n",
    "\n",
    "# строим графики\n",
    "plt.figure(figsize=(15,5))\n",
    "plt.plot(cumulativeDataA['date'], cumulativeDataA['conversion'], label='A')\n",
    "plt.plot(cumulativeDataB['date'], cumulativeDataB['conversion'], label='B')\n",
    "plt.title('График кумулятивного среднего количества заказов на посетителя по группам')\n",
    "plt.ylabel('Среднего кол-во заказов на посетителя')\n",
    "plt.xlabel('Дата')\n",
    "plt.xticks(rotation=45)\n",
    "plt.legend()\n",
    "plt.grid()\n",
    "plt.show()\n",
    "\n"
   ]
  },
  {
   "cell_type": "markdown",
   "id": "92d530ae",
   "metadata": {},
   "source": [
    "В начале теста группа А имела в среднем больше заказов на посетителя, чем группа В. Однако позже ситуация изменилась и с 06-08-2019 среднее кол-во заказов группы B оставалась выше группы А. После резкого скачка вниз примерно (примерно между 02 и 03 августа), далее группы В постепенно падала."
   ]
  },
  {
   "cell_type": "markdown",
   "id": "72a1b8fa",
   "metadata": {},
   "source": [
    "### График относительного изменения кумулятивного среднего количества заказов на посетителя группы B к группе A."
   ]
  },
  {
   "cell_type": "markdown",
   "id": "6ab31cec",
   "metadata": {},
   "source": [
    "Объединим таблицы cumulativeDataA и cumulativeDataB, cохраним в переменной mergedCumulativeConversions. Построим график относительного различия кумулятивной конверсии группы B к группе A"
   ]
  },
  {
   "cell_type": "code",
   "execution_count": 26,
   "id": "54044c93",
   "metadata": {},
   "outputs": [
    {
     "data": {
      "image/png": "[encoded data removed]",
      "text/plain": [
       "<Figure size 1080x360 with 1 Axes>"
      ]
     },
     "metadata": {
      "needs_background": "light"
     },
     "output_type": "display_data"
    }
   ],
   "source": [
    "mergedCumulativeConversions = cumulativeDataA[['date','conversion']].merge(\n",
    "    cumulativeDataB[['date','conversion']], left_on='date', right_on='date', how='left', suffixes=['A', 'B']\n",
    ")\n",
    "\n",
    "plt.figure(figsize=(15,5))\n",
    "plt.plot(\n",
    "    mergedCumulativeConversions['date'], mergedCumulativeConversions['conversionB']/\n",
    "    mergedCumulativeConversions['conversionA']-1, label=\"Прирост среднего кол-ва заказов группы B к группе A\")\n",
    "\n",
    "plt.legend()\n",
    "plt.axhline(y=0, color='black', linestyle='--')\n",
    "plt.axhline(y=0.20, color='red', linestyle='--')\n",
    "plt.title('График относительного изменения кумулятивного среднего количества заказов на посетителя группы B к группе A')\n",
    "plt.ylabel('Кумулятивное среднее кол-во заказов')\n",
    "plt.xticks(rotation=45)\n",
    "plt.grid()\n",
    "plt.show()"
   ]
  },
  {
   "cell_type": "markdown",
   "id": "ea3545b6",
   "metadata": {},
   "source": [
    "В начале теста группа B значительно проигрывала группе A, затем вырвалась вперёд. с 17-08-2019 постепенно падает"
   ]
  },
  {
   "cell_type": "markdown",
   "id": "dd9dde4b",
   "metadata": {},
   "source": [
    "### Точечный график количества заказов по пользователям."
   ]
  },
  {
   "cell_type": "markdown",
   "id": "b42f1772",
   "metadata": {},
   "source": [
    "Подсчитаем количество заказов по пользователям:"
   ]
  },
  {
   "cell_type": "code",
   "execution_count": 27,
   "id": "4378cee0",
   "metadata": {},
   "outputs": [
    {
     "data": {
      "text/html": [
       "<div>\n",
       "<style scoped>\n",
       "    .dataframe tbody tr th:only-of-type {\n",
       "        vertical-align: middle;\n",
       "    }\n",
       "\n",
       "    .dataframe tbody tr th {\n",
       "        vertical-align: top;\n",
       "    }\n",
       "\n",
       "    .dataframe thead th {\n",
       "        text-align: right;\n",
       "    }\n",
       "</style>\n",
       "<table border=\"1\" class=\"dataframe\">\n",
       "  <thead>\n",
       "    <tr style=\"text-align: right;\">\n",
       "      <th></th>\n",
       "      <th>visitorId</th>\n",
       "      <th>orders</th>\n",
       "    </tr>\n",
       "  </thead>\n",
       "  <tbody>\n",
       "    <tr>\n",
       "      <th>0</th>\n",
       "      <td>5114589</td>\n",
       "      <td>1</td>\n",
       "    </tr>\n",
       "    <tr>\n",
       "      <th>1</th>\n",
       "      <td>6958315</td>\n",
       "      <td>1</td>\n",
       "    </tr>\n",
       "    <tr>\n",
       "      <th>2</th>\n",
       "      <td>11685486</td>\n",
       "      <td>1</td>\n",
       "    </tr>\n",
       "    <tr>\n",
       "      <th>3</th>\n",
       "      <td>39475350</td>\n",
       "      <td>1</td>\n",
       "    </tr>\n",
       "    <tr>\n",
       "      <th>4</th>\n",
       "      <td>47206413</td>\n",
       "      <td>1</td>\n",
       "    </tr>\n",
       "  </tbody>\n",
       "</table>\n",
       "</div>"
      ],
      "text/plain": [
       "   visitorId  orders\n",
       "0    5114589       1\n",
       "1    6958315       1\n",
       "2   11685486       1\n",
       "3   39475350       1\n",
       "4   47206413       1"
      ]
     },
     "execution_count": 27,
     "metadata": {},
     "output_type": "execute_result"
    }
   ],
   "source": [
    "#создаем таблицу по заказам\n",
    "ordersByUsers = (\n",
    "    orders.groupby('visitorId', as_index=False)\n",
    "    .agg({'transactionId': 'nunique'})\n",
    "    .rename(columns={'transactionId':'orders'})\n",
    ")\n",
    "\n",
    "ordersByUsers.head()"
   ]
  },
  {
   "cell_type": "markdown",
   "id": "adaa0a29",
   "metadata": {},
   "source": [
    "Построим точечную диаграмму числа заказов на одного пользователя:"
   ]
  },
  {
   "cell_type": "code",
   "execution_count": 28,
   "id": "67e803e5",
   "metadata": {},
   "outputs": [
    {
     "data": {
      "image/png": "[encoded data removed]",
      "text/plain": [
       "<Figure size 720x360 with 1 Axes>"
      ]
     },
     "metadata": {
      "needs_background": "light"
     },
     "output_type": "display_data"
    }
   ],
   "source": [
    "#строим график\n",
    "x_values = pd.Series(range(0,len(ordersByUsers['orders'])))\n",
    "\n",
    "plt.figure(figsize=(10,5))\n",
    "plt.scatter(x_values, ordersByUsers['orders'], alpha=0.3)\n",
    "plt.title('Точечный график количества заказов по пользователям')\n",
    "plt.xlabel('Число пользователей')\n",
    "plt.ylabel('Число заказов')\n",
    "plt.grid()\n",
    "plt.show()"
   ]
  },
  {
   "cell_type": "markdown",
   "id": "2731d600",
   "metadata": {},
   "source": [
    "В основном пользователи с 1 заказом, но также присутствуют и с 2-3 заказами"
   ]
  },
  {
   "cell_type": "markdown",
   "id": "521c3696",
   "metadata": {},
   "source": [
    "### 95-й и 99-й перцентили количества заказов на пользователя. Выбор границы для определения аномальных пользователей.\n"
   ]
  },
  {
   "cell_type": "code",
   "execution_count": 29,
   "id": "60400623",
   "metadata": {},
   "outputs": [
    {
     "name": "stdout",
     "output_type": "stream",
     "text": [
      "[1. 2.]\n"
     ]
    }
   ],
   "source": [
    "print(np.percentile(ordersByUsers['orders'], [95, 99]))\n"
   ]
  },
  {
   "cell_type": "markdown",
   "id": "9994ffeb",
   "metadata": {},
   "source": [
    "Не более 1-го % совершили более 2х заказов. Все пользователи, совершившие 2 и более заказов являются аномалией."
   ]
  },
  {
   "cell_type": "markdown",
   "id": "0860e1cd",
   "metadata": {},
   "source": [
    "### Точечный график стоимостей заказов. "
   ]
  },
  {
   "cell_type": "code",
   "execution_count": 30,
   "id": "468d2a3c",
   "metadata": {},
   "outputs": [
    {
     "data": {
      "image/png": "[encoded data removed]",
      "text/plain": [
       "<Figure size 720x360 with 1 Axes>"
      ]
     },
     "metadata": {
      "needs_background": "light"
     },
     "output_type": "display_data"
    }
   ],
   "source": [
    "x_values = pd.Series(range(0,len(orders['revenue'])))\n",
    "\n",
    "plt.figure(figsize=(10,5))\n",
    "plt.scatter(x_values, orders['revenue'], alpha=0.3)\n",
    "plt.title('Точечный график стоимостей заказов')\n",
    "plt.xlabel('Число пользователей')\n",
    "plt.ylabel('Стоимость заказов')\n",
    "plt.grid()\n",
    "plt.show()"
   ]
  },
  {
   "cell_type": "markdown",
   "id": "47000123",
   "metadata": {},
   "source": [
    "Для наглядности укрумним график, срезав выбросы."
   ]
  },
  {
   "cell_type": "code",
   "execution_count": 31,
   "id": "b2c9bf98",
   "metadata": {},
   "outputs": [
    {
     "data": {
      "image/png": "[encoded data removed]",
      "text/plain": [
       "<Figure size 1080x360 with 1 Axes>"
      ]
     },
     "metadata": {
      "needs_background": "light"
     },
     "output_type": "display_data"
    }
   ],
   "source": [
    "avg_orders = orders[orders['revenue']<=195000]['revenue']\n",
    "xn_values = pd.Series(range(0,len(avg_orders)))\n",
    "plt.figure(figsize=(15,5))\n",
    "plt.grid()\n",
    "plt.title('Укрупненный точечный график стоимостей заказов')\n",
    "plt.xlabel('Число пользователей')\n",
    "plt.ylabel('Стоимость заказов')\n",
    "plt.scatter(xn_values, avg_orders, alpha=0.5);"
   ]
  },
  {
   "cell_type": "markdown",
   "id": "fa100e93",
   "metadata": {},
   "source": [
    "Большинство заказов менее 200.000 (в основном менее 100.000)"
   ]
  },
  {
   "cell_type": "markdown",
   "id": "ffde5214",
   "metadata": {},
   "source": [
    "### 95-й и 99-й перцентили стоимости заказов. Выбор границы для определения аномальных заказов."
   ]
  },
  {
   "cell_type": "code",
   "execution_count": 32,
   "id": "74a279b4",
   "metadata": {},
   "outputs": [
    {
     "name": "stdout",
     "output_type": "stream",
     "text": [
      "[26785. 53904.]\n"
     ]
    }
   ],
   "source": [
    "print(np.percentile(orders['revenue'], [95, 99]))\n"
   ]
  },
  {
   "cell_type": "markdown",
   "id": "0bd8e14f",
   "metadata": {},
   "source": [
    "99% заказов меньше суммы 53904, обозначим ее в качестве границы для аномалий."
   ]
  },
  {
   "cell_type": "markdown",
   "id": "0f9b2a86",
   "metadata": {},
   "source": [
    "### Статистическая значимость различий в среднем количестве заказов на посетителя между группами по «сырым» данным"
   ]
  },
  {
   "cell_type": "markdown",
   "id": "7d12f9b3",
   "metadata": {},
   "source": [
    "Рассчет статистической значимости различий между группами по «сырым» данным"
   ]
  },
  {
   "cell_type": "code",
   "execution_count": 33,
   "id": "75f13c28",
   "metadata": {},
   "outputs": [],
   "source": [
    "a=visitors.query('group==\"A\"') #срез таблицы visitors до группы А\n",
    "b=visitors.query('group==\"B\"') #срез таблицы visitors до группы В"
   ]
  },
  {
   "cell_type": "code",
   "execution_count": 34,
   "id": "03d245d1",
   "metadata": {},
   "outputs": [],
   "source": [
    "#создание переменных ordersByUsersA и ordersByUsersB со столбцами ['visitorId', 'transactionid']\n",
    "ordersByUsersA = (\n",
    "    orders[orders['group'] == 'A']\n",
    "    .groupby('visitorId', as_index=False)\n",
    "    .agg({'transactionId': pd.Series.nunique})\n",
    ")\n",
    "ordersByUsersA.columns = ['visitorId', 'orders']\n",
    "\n",
    "ordersByUsersB = (\n",
    "    orders[orders['group'] == 'B']\n",
    "    .groupby('visitorId', as_index=False)\n",
    "    .agg({'transactionId': pd.Series.nunique})\n",
    ")\n",
    "ordersByUsersB.columns = ['visitorId', 'orders']\n",
    "\n",
    "#Объявление переменных sampleA и sampleB \n",
    "#sample — это количество пользователей, сумма всех элементов — количество заказов\n",
    "sampleA = pd.concat(\n",
    "    [\n",
    "        ordersByUsersA['orders'],\n",
    "        pd.Series(\n",
    "            0,\n",
    "            index=np.arange(\n",
    "                a['visitors'].sum() - len(ordersByUsersA['orders'])\n",
    "            ),\n",
    "            name='orders',\n",
    "        ),\n",
    "    ],\n",
    "    axis=0,\n",
    ")\n",
    "\n",
    "sampleB = pd.concat(\n",
    "    [\n",
    "        ordersByUsersB['orders'],\n",
    "        pd.Series(\n",
    "            0,\n",
    "            index=np.arange(\n",
    "                b['visitors'].sum() - len(ordersByUsersB['orders'])\n",
    "            ),\n",
    "            name='orders',\n",
    "        ),\n",
    "    ],\n",
    "    axis=0,\n",
    ")\n"
   ]
  },
  {
   "cell_type": "markdown",
   "id": "923bba6c",
   "metadata": {},
   "source": [
    "Гипотезы:\n",
    "- Нулевая гипотеза: Статистически значимых различий в среднем количестве заказов на посетителя между группами А и В нет\n",
    "- Альтернативная гипотеза: Статистически значимые различия в среднем числе заказов на посетителя между группами А и В есть \n"
   ]
  },
  {
   "cell_type": "markdown",
   "id": "839c1480",
   "metadata": {},
   "source": [
    "Применим критерием Манна-Уитни. Порогом статистической значимости установим alpha = 0.05"
   ]
  },
  {
   "cell_type": "code",
   "execution_count": 35,
   "id": "6ee41350",
   "metadata": {},
   "outputs": [
    {
     "name": "stdout",
     "output_type": "stream",
     "text": [
      "P-value: 0.011\n",
      "Относительный показатель разницы B и A: 0.160\n"
     ]
    }
   ],
   "source": [
    "print('P-value:','{0:.3f}'.format(stats.mannwhitneyu(sampleA, sampleB)[1]))\n",
    "print('Относительный показатель разницы B и A:','{0:.3f}'.format(sampleB.mean() / sampleA.mean() - 1))"
   ]
  },
  {
   "cell_type": "markdown",
   "id": "015c5c91",
   "metadata": {},
   "source": [
    "Отвергаем нулевую гипотезу, P-value < alpha.\n",
    "\n",
    "Относительный прирост в среднем числе заказов на посетителя между группами группы В к А равен 16%. "
   ]
  },
  {
   "cell_type": "markdown",
   "id": "b96d16a5",
   "metadata": {},
   "source": [
    "### Статистическая значимость различий в среднем чеке заказа между группами по «сырым» данным"
   ]
  },
  {
   "cell_type": "markdown",
   "id": "f80022f6",
   "metadata": {},
   "source": [
    "Гипотезы:\n",
    "- Средние чеки групп A и B равны, статистически значимых отличий нет \n",
    "- Средние чеки групп A и B различны, статистически значимые отличия есть"
   ]
  },
  {
   "cell_type": "code",
   "execution_count": 36,
   "id": "06a8d000",
   "metadata": {},
   "outputs": [
    {
     "name": "stdout",
     "output_type": "stream",
     "text": [
      "P-value: 0.829\n",
      "Относительный показатель разницы B и A: 0.287\n"
     ]
    }
   ],
   "source": [
    "print('P-value:','{0:.3f}'.format(stats.mannwhitneyu(orders[orders['group']=='A']['revenue'], orders[orders['group']=='B']['revenue'])[1]))\n",
    "print('Относительный показатель разницы B и A:','{0:.3f}'.format(orders[orders['group']=='B']['revenue'].mean()/orders[orders['group']=='A']['revenue'].mean()-1))"
   ]
  },
  {
   "cell_type": "markdown",
   "id": "dc1a2648",
   "metadata": {},
   "source": [
    "P-value больше alpha, нет возможности отвергнуть нулевую гипотезу.\n",
    "Однако относительный прирост в среднем чеке заказа группы В над группой А состовляет почти 29% (возможно выбросы, так как смотрим по \"сырым\" данным)"
   ]
  },
  {
   "cell_type": "markdown",
   "id": "060c789a",
   "metadata": {},
   "source": [
    "### Cтатистическая значимость различий в среднем количестве заказов на посетителя между группами по «очищенным» данным"
   ]
  },
  {
   "cell_type": "markdown",
   "id": "e17f2bd1",
   "metadata": {},
   "source": [
    "Приступаем к подготовке очищенных от аномалий данных.\n",
    "Выше мы проанализировали, что аномалиями являются:\n",
    "- 2 и выше заказа на пользователя\n",
    "- стоимость заказов равная 53904 р и выше\n",
    "\n",
    "Эти данные составляют 1% от общих, но могут сильно влиять на результат, поэтому отбросим их.\n",
    "\n"
   ]
  },
  {
   "cell_type": "code",
   "execution_count": 37,
   "id": "40d505b9",
   "metadata": {},
   "outputs": [],
   "source": [
    "usersWithManyOrders = pd.concat(\n",
    "    [\n",
    "        ordersByUsersA[ordersByUsersA['orders'] > int(np.percentile(ordersByUsers['orders'], [99]))]['visitorId'],\n",
    "        ordersByUsersB[ordersByUsersB['orders'] > int(np.percentile(ordersByUsers['orders'], [99]))]['visitorId'],\n",
    "    ],\n",
    "    axis=0,\n",
    ")\n",
    "usersWithExpensiveOrders = orders[orders['revenue'] > int(np.percentile(orders['revenue'], [99]))]['visitorId']\n",
    "abnormalUsers = (\n",
    "    pd.concat([usersWithManyOrders, usersWithExpensiveOrders], axis=0)\n",
    "    .drop_duplicates()\n",
    "    .sort_values()\n",
    ")"
   ]
  },
  {
   "cell_type": "markdown",
   "id": "3697018f",
   "metadata": {},
   "source": [
    "Также для полноты картины, рассчитаем абсолютные и относительные потери пользователей. Для подсчета абсолютной величины сложим всех пользователей, в созданных выше переменных usersWithManyOrders и usersWithExpensiveOrders (в них мы отделили аномальных пользователей по количеству и стоимости заказов). Для подсчета относительной потери разделим сумму аномальных пользователей на число уникальных пользователей и выведем итог в процентах"
   ]
  },
  {
   "cell_type": "code",
   "execution_count": 38,
   "id": "5d2a8313",
   "metadata": {},
   "outputs": [
    {
     "name": "stdout",
     "output_type": "stream",
     "text": [
      "Абсолютные потери составляют: 16 пользователей\n",
      "Относительные потери составляют 1.644398766700925 %\n"
     ]
    }
   ],
   "source": [
    "print('Абсолютные потери составляют:',\n",
    "      usersWithExpensiveOrders.count() + usersWithManyOrders.count(),\n",
    "      'пользователей')\n",
    "print('Относительные потери составляют', \n",
    "      (usersWithExpensiveOrders.count() + usersWithManyOrders.count())/orders['visitorId'].nunique() * 100,\n",
    "      '%')"
   ]
  },
  {
   "cell_type": "code",
   "execution_count": 39,
   "id": "46eeff3c",
   "metadata": {},
   "outputs": [],
   "source": [
    "sampleAFiltered = pd.concat(\n",
    "    [\n",
    "        ordersByUsersA[\n",
    "            np.logical_not(ordersByUsersA['visitorId'].isin(abnormalUsers))\n",
    "        ]['orders'],\n",
    "        pd.Series(\n",
    "            0,\n",
    "            index=np.arange(\n",
    "                a['visitors'].sum() - len(ordersByUsersA['orders'])\n",
    "            ),\n",
    "            name='orders',\n",
    "        ),\n",
    "    ],\n",
    "    axis=0,\n",
    ")\n",
    "\n",
    "sampleBFiltered = pd.concat(\n",
    "    [\n",
    "        ordersByUsersB[\n",
    "            np.logical_not(ordersByUsersB['visitorId'].isin(abnormalUsers))\n",
    "        ]['orders'],\n",
    "        pd.Series(\n",
    "            0,\n",
    "            index=np.arange(\n",
    "                b['visitors'].sum() - len(ordersByUsersB['orders'])\n",
    "            ),\n",
    "            name='orders',\n",
    "        ),\n",
    "    ],\n",
    "    axis=0,\n",
    ")\n"
   ]
  },
  {
   "cell_type": "markdown",
   "id": "0c540e27",
   "metadata": {},
   "source": [
    "Гипотезы:\n",
    "- Нулевая гипотеза: Статистически значимых различий в среднем количестве заказов на посетителя между группами А и В нет\n",
    "- Альтернативная гипотеза: Статистически значимые различия в среднем числе заказов на посетителя между группами А и В есть "
   ]
  },
  {
   "cell_type": "code",
   "execution_count": 40,
   "id": "48341da6",
   "metadata": {},
   "outputs": [
    {
     "name": "stdout",
     "output_type": "stream",
     "text": [
      "P-value: 0.007\n",
      "Относительный показатель разницы B и A: 0.189\n"
     ]
    }
   ],
   "source": [
    "print('P-value:','{0:.3f}'.format(stats.mannwhitneyu(sampleAFiltered, sampleBFiltered)[1]))\n",
    "print('Относительный показатель разницы B и A:', '{0:.3f}'.format(sampleBFiltered.mean()/sampleAFiltered.mean()-1))"
   ]
  },
  {
   "cell_type": "markdown",
   "id": "748b6405",
   "metadata": {},
   "source": [
    "Нулевую гипотезу можно отвергнуть, P-value < alpha (на сырых данных P-value = 0.011, не критичное отличие). \n",
    "Статистически значимые различия в среднем числе заказов на посетителя между группами А и В есть. Относительный прирост в среднем числе заказов на посетителя группы В к группе А равен почти 19% (на сырых данных был 16%)."
   ]
  },
  {
   "cell_type": "markdown",
   "id": "2b107f5f",
   "metadata": {},
   "source": [
    "### Статистическая значимость различий в среднем чеке заказа между группами по «очищенным» данным"
   ]
  },
  {
   "cell_type": "markdown",
   "id": "ccd56058",
   "metadata": {},
   "source": [
    "Гипотезы:\n",
    "- Средние чеки групп A и B равны, статистически значимых отличий нет \n",
    "- Средние чеки групп A и B различны, статистически значимые отличия есть"
   ]
  },
  {
   "cell_type": "code",
   "execution_count": 41,
   "id": "e3324000",
   "metadata": {},
   "outputs": [
    {
     "name": "stdout",
     "output_type": "stream",
     "text": [
      "P-value: 0.788\n",
      "Относительный показатель разницы B и A: -0.032\n"
     ]
    }
   ],
   "source": [
    "print('P-value:',\n",
    "    '{0:.3f}'.format(\n",
    "        stats.mannwhitneyu(\n",
    "            orders[\n",
    "                np.logical_and(\n",
    "                    orders['group'] == 'A',\n",
    "                    np.logical_not(orders['visitorId'].isin(abnormalUsers)),\n",
    "                )\n",
    "            ]['revenue'],\n",
    "            orders[\n",
    "                np.logical_and(\n",
    "                    orders['group'] == 'B',\n",
    "                    np.logical_not(orders['visitorId'].isin(abnormalUsers)),\n",
    "                )\n",
    "            ]['revenue'],\n",
    "        )[1]\n",
    "    )\n",
    ")\n",
    "\n",
    "print('Относительный показатель разницы B и A:',\n",
    "    \"{0:.3f}\".format(\n",
    "        orders[\n",
    "            np.logical_and(\n",
    "                orders['group'] == 'B',\n",
    "                np.logical_not(orders['visitorId'].isin(abnormalUsers)),\n",
    "            )\n",
    "        ]['revenue'].mean()\n",
    "        / orders[\n",
    "            np.logical_and(\n",
    "                orders['group'] == 'A',\n",
    "                np.logical_not(orders['visitorId'].isin(abnormalUsers)),\n",
    "            )\n",
    "        ]['revenue'].mean()\n",
    "        - 1\n",
    "    )\n",
    ")"
   ]
  },
  {
   "cell_type": "markdown",
   "id": "0ba58067",
   "metadata": {},
   "source": [
    "P-value также остался больше 0.05 (на сырых даннах P-value 0.829, отличия не критичны), не получилось отвергнуть нулевую гипотезу.\n",
    "\n",
    "Важно, что относительное снижение среднего чека группы В к группе А примерно равен 3% (на сырых данных различия были в пользу группы А почти в 29%) "
   ]
  },
  {
   "cell_type": "markdown",
   "id": "575f1923",
   "metadata": {},
   "source": [
    "### Итог"
   ]
  },
  {
   "cell_type": "markdown",
   "id": "75644255",
   "metadata": {},
   "source": [
    "Кумулятивные метрики по выручке, среднему чеку и конверсии почти все время лидировали в группе B. На графиках выручки и среднего чека были резкие скачки группы В, предположительно обусловленные аномалиями в данных (что подтвердилось после очистки данных).\n",
    "\n",
    "Есть смысл остановить тест, зафиксировать победу группы В, которая показывает лучше результат в среднем числе заказов на посетителя (на 19% выше конверсии группы А на очищенных данных), однако средний чек не имеет весомых отличий между группами (и в сырых и в очищенных данных).\n",
    "\n"
   ]
  }
 ],
 "metadata": {
  "ExecuteTimeLog": [
   {
    "duration": 1279,
    "start_time": "2023-03-21T02:29:18.488Z"
   },
   {
    "duration": 229,
    "start_time": "2023-03-21T02:29:19.770Z"
   },
   {
    "duration": 13,
    "start_time": "2023-03-21T02:29:20.001Z"
   },
   {
    "duration": 9,
    "start_time": "2023-03-21T02:29:20.017Z"
   },
   {
    "duration": 21,
    "start_time": "2023-03-21T02:29:20.028Z"
   },
   {
    "duration": 9,
    "start_time": "2023-03-21T02:29:20.051Z"
   },
   {
    "duration": 17,
    "start_time": "2023-03-21T02:29:20.062Z"
   },
   {
    "duration": 5,
    "start_time": "2023-03-21T02:29:20.081Z"
   },
   {
    "duration": 8,
    "start_time": "2023-03-21T02:29:20.088Z"
   },
   {
    "duration": 14,
    "start_time": "2023-03-21T02:29:20.099Z"
   },
   {
    "duration": 14,
    "start_time": "2023-03-21T02:29:20.114Z"
   },
   {
    "duration": 35,
    "start_time": "2023-03-21T02:29:20.130Z"
   },
   {
    "duration": 25,
    "start_time": "2023-03-21T02:29:20.166Z"
   },
   {
    "duration": 16,
    "start_time": "2023-03-21T02:29:20.193Z"
   },
   {
    "duration": 2,
    "start_time": "2023-03-21T02:29:20.211Z"
   },
   {
    "duration": 10,
    "start_time": "2023-03-21T02:29:20.214Z"
   },
   {
    "duration": 12,
    "start_time": "2023-03-21T02:29:20.225Z"
   },
   {
    "duration": 26,
    "start_time": "2023-03-21T02:29:20.239Z"
   },
   {
    "duration": 11,
    "start_time": "2023-03-21T02:29:20.267Z"
   },
   {
    "duration": 303,
    "start_time": "2023-03-21T02:29:20.280Z"
   },
   {
    "duration": 286,
    "start_time": "2023-03-21T02:29:20.585Z"
   },
   {
    "duration": 217,
    "start_time": "2023-03-21T02:29:20.873Z"
   },
   {
    "duration": 324,
    "start_time": "2023-03-21T02:29:21.092Z"
   },
   {
    "duration": 225,
    "start_time": "2023-03-21T02:29:21.418Z"
   },
   {
    "duration": 352,
    "start_time": "2023-03-21T02:29:21.645Z"
   },
   {
    "duration": 11,
    "start_time": "2023-03-21T02:29:21.999Z"
   },
   {
    "duration": 169,
    "start_time": "2023-03-21T02:29:22.012Z"
   },
   {
    "duration": 4,
    "start_time": "2023-03-21T02:29:22.184Z"
   },
   {
    "duration": 168,
    "start_time": "2023-03-21T02:29:22.189Z"
   },
   {
    "duration": 168,
    "start_time": "2023-03-21T02:29:22.362Z"
   },
   {
    "duration": 6,
    "start_time": "2023-03-21T02:29:22.531Z"
   },
   {
    "duration": 305,
    "start_time": "2023-03-21T02:29:22.538Z"
   },
   {
    "duration": 72,
    "start_time": "2023-03-21T02:29:22.844Z"
   },
   {
    "duration": 0,
    "start_time": "2023-03-21T02:29:22.917Z"
   },
   {
    "duration": 0,
    "start_time": "2023-03-21T02:29:22.919Z"
   },
   {
    "duration": 0,
    "start_time": "2023-03-21T02:29:22.920Z"
   },
   {
    "duration": 0,
    "start_time": "2023-03-21T02:29:22.921Z"
   },
   {
    "duration": 0,
    "start_time": "2023-03-21T02:29:22.922Z"
   },
   {
    "duration": 0,
    "start_time": "2023-03-21T02:29:22.923Z"
   },
   {
    "duration": 115,
    "start_time": "2023-03-21T02:29:36.191Z"
   },
   {
    "duration": 20,
    "start_time": "2023-03-21T02:29:36.308Z"
   },
   {
    "duration": 12,
    "start_time": "2023-03-21T02:29:36.329Z"
   },
   {
    "duration": 21,
    "start_time": "2023-03-21T02:29:36.343Z"
   },
   {
    "duration": 14,
    "start_time": "2023-03-21T02:29:36.365Z"
   },
   {
    "duration": 19,
    "start_time": "2023-03-21T02:29:36.380Z"
   },
   {
    "duration": 12,
    "start_time": "2023-03-21T02:29:36.401Z"
   },
   {
    "duration": 1280,
    "start_time": "2023-03-23T22:06:31.461Z"
   },
   {
    "duration": 242,
    "start_time": "2023-03-23T22:06:32.743Z"
   },
   {
    "duration": 3,
    "start_time": "2023-03-23T22:06:32.987Z"
   },
   {
    "duration": 28,
    "start_time": "2023-03-23T22:06:32.992Z"
   },
   {
    "duration": 3,
    "start_time": "2023-03-23T22:06:33.022Z"
   },
   {
    "duration": 17,
    "start_time": "2023-03-23T22:06:33.027Z"
   },
   {
    "duration": 37,
    "start_time": "2023-03-23T22:06:33.045Z"
   },
   {
    "duration": 20,
    "start_time": "2023-03-23T22:06:33.084Z"
   },
   {
    "duration": 7,
    "start_time": "2023-03-23T22:06:33.106Z"
   },
   {
    "duration": 19,
    "start_time": "2023-03-23T22:06:33.117Z"
   },
   {
    "duration": 31,
    "start_time": "2023-03-23T22:06:33.138Z"
   },
   {
    "duration": 19,
    "start_time": "2023-03-23T22:06:33.171Z"
   },
   {
    "duration": 7,
    "start_time": "2023-03-23T22:06:33.192Z"
   },
   {
    "duration": 13,
    "start_time": "2023-03-23T22:06:33.201Z"
   },
   {
    "duration": 29,
    "start_time": "2023-03-23T22:06:33.215Z"
   },
   {
    "duration": 11,
    "start_time": "2023-03-23T22:06:33.247Z"
   },
   {
    "duration": 30,
    "start_time": "2023-03-23T22:06:33.260Z"
   },
   {
    "duration": 26,
    "start_time": "2023-03-23T22:06:33.292Z"
   },
   {
    "duration": 16,
    "start_time": "2023-03-23T22:06:33.321Z"
   },
   {
    "duration": 17,
    "start_time": "2023-03-23T22:06:33.340Z"
   },
   {
    "duration": 396,
    "start_time": "2023-03-23T22:06:33.359Z"
   },
   {
    "duration": 340,
    "start_time": "2023-03-23T22:06:33.757Z"
   },
   {
    "duration": 260,
    "start_time": "2023-03-23T22:06:34.099Z"
   },
   {
    "duration": 336,
    "start_time": "2023-03-23T22:06:34.361Z"
   },
   {
    "duration": 255,
    "start_time": "2023-03-23T22:06:34.699Z"
   },
   {
    "duration": 384,
    "start_time": "2023-03-23T22:06:34.956Z"
   },
   {
    "duration": 11,
    "start_time": "2023-03-23T22:06:35.342Z"
   },
   {
    "duration": 190,
    "start_time": "2023-03-23T22:06:35.357Z"
   },
   {
    "duration": 4,
    "start_time": "2023-03-23T22:06:35.549Z"
   },
   {
    "duration": 193,
    "start_time": "2023-03-23T22:06:35.555Z"
   },
   {
    "duration": 195,
    "start_time": "2023-03-23T22:06:35.750Z"
   },
   {
    "duration": 5,
    "start_time": "2023-03-23T22:06:35.946Z"
   },
   {
    "duration": 12,
    "start_time": "2023-03-23T22:06:35.953Z"
   },
   {
    "duration": 281,
    "start_time": "2023-03-23T22:06:35.966Z"
   },
   {
    "duration": 26,
    "start_time": "2023-03-23T22:06:36.249Z"
   },
   {
    "duration": 11,
    "start_time": "2023-03-23T22:06:36.277Z"
   },
   {
    "duration": 9,
    "start_time": "2023-03-23T22:06:36.290Z"
   },
   {
    "duration": 41,
    "start_time": "2023-03-23T22:06:36.301Z"
   },
   {
    "duration": 25,
    "start_time": "2023-03-23T22:06:36.343Z"
   },
   {
    "duration": 14,
    "start_time": "2023-03-23T22:06:36.370Z"
   },
   {
    "duration": 1279,
    "start_time": "2023-03-26T12:14:44.486Z"
   },
   {
    "duration": 238,
    "start_time": "2023-03-26T12:14:45.767Z"
   },
   {
    "duration": 3,
    "start_time": "2023-03-26T12:14:46.007Z"
   },
   {
    "duration": 12,
    "start_time": "2023-03-26T12:14:46.011Z"
   },
   {
    "duration": 4,
    "start_time": "2023-03-26T12:14:46.024Z"
   },
   {
    "duration": 28,
    "start_time": "2023-03-26T12:14:46.029Z"
   },
   {
    "duration": 8,
    "start_time": "2023-03-26T12:14:46.059Z"
   },
   {
    "duration": 15,
    "start_time": "2023-03-26T12:14:46.069Z"
   },
   {
    "duration": 4,
    "start_time": "2023-03-26T12:14:46.086Z"
   },
   {
    "duration": 7,
    "start_time": "2023-03-26T12:14:46.093Z"
   },
   {
    "duration": 43,
    "start_time": "2023-03-26T12:14:46.102Z"
   },
   {
    "duration": 14,
    "start_time": "2023-03-26T12:14:46.146Z"
   },
   {
    "duration": 9,
    "start_time": "2023-03-26T12:14:46.161Z"
   },
   {
    "duration": 6,
    "start_time": "2023-03-26T12:14:46.171Z"
   },
   {
    "duration": 16,
    "start_time": "2023-03-26T12:14:46.178Z"
   },
   {
    "duration": 3,
    "start_time": "2023-03-26T12:14:46.196Z"
   },
   {
    "duration": 6,
    "start_time": "2023-03-26T12:14:46.200Z"
   },
   {
    "duration": 48,
    "start_time": "2023-03-26T12:14:46.208Z"
   },
   {
    "duration": 12,
    "start_time": "2023-03-26T12:14:46.258Z"
   },
   {
    "duration": 20,
    "start_time": "2023-03-26T12:14:46.274Z"
   },
   {
    "duration": 363,
    "start_time": "2023-03-26T12:14:46.295Z"
   },
   {
    "duration": 395,
    "start_time": "2023-03-26T12:14:46.661Z"
   },
   {
    "duration": 221,
    "start_time": "2023-03-26T12:14:47.058Z"
   },
   {
    "duration": 392,
    "start_time": "2023-03-26T12:14:47.281Z"
   },
   {
    "duration": 244,
    "start_time": "2023-03-26T12:14:47.675Z"
   },
   {
    "duration": 365,
    "start_time": "2023-03-26T12:14:47.920Z"
   },
   {
    "duration": 11,
    "start_time": "2023-03-26T12:14:48.286Z"
   },
   {
    "duration": 175,
    "start_time": "2023-03-26T12:14:48.300Z"
   },
   {
    "duration": 5,
    "start_time": "2023-03-26T12:14:48.477Z"
   },
   {
    "duration": 179,
    "start_time": "2023-03-26T12:14:48.484Z"
   },
   {
    "duration": 233,
    "start_time": "2023-03-26T12:14:48.665Z"
   },
   {
    "duration": 5,
    "start_time": "2023-03-26T12:14:48.900Z"
   },
   {
    "duration": 8,
    "start_time": "2023-03-26T12:14:48.907Z"
   },
   {
    "duration": 206,
    "start_time": "2023-03-26T12:14:48.917Z"
   },
   {
    "duration": 40,
    "start_time": "2023-03-26T12:14:49.124Z"
   },
   {
    "duration": 10,
    "start_time": "2023-03-26T12:14:49.165Z"
   },
   {
    "duration": 10,
    "start_time": "2023-03-26T12:14:49.177Z"
   },
   {
    "duration": 20,
    "start_time": "2023-03-26T12:14:49.189Z"
   },
   {
    "duration": 9,
    "start_time": "2023-03-26T12:14:49.210Z"
   },
   {
    "duration": 46,
    "start_time": "2023-03-26T12:14:49.221Z"
   },
   {
    "duration": 13,
    "start_time": "2023-03-26T12:14:49.268Z"
   }
  ],
  "kernelspec": {
   "display_name": "Python 3 (ipykernel)",
   "language": "python",
   "name": "python3"
  },
  "language_info": {
   "codemirror_mode": {
    "name": "ipython",
    "version": 3
   },
   "file_extension": ".py",
   "mimetype": "text/x-python",
   "name": "python",
   "nbconvert_exporter": "python",
   "pygments_lexer": "ipython3",
   "version": "3.9.13"
  },
  "toc": {
   "base_numbering": 1,
   "nav_menu": {},
   "number_sections": true,
   "sideBar": true,
   "skip_h1_title": true,
   "title_cell": "Гипотезы",
   "title_sidebar": "Contents",
   "toc_cell": true,
   "toc_position": {
    "height": "calc(100% - 180px)",
    "left": "10px",
    "top": "150px",
    "width": "355px"
   },
   "toc_section_display": true,
   "toc_window_display": true
  }
 },
 "nbformat": 4,
 "nbformat_minor": 5
}
